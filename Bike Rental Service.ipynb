{
 "cells": [
  {
   "cell_type": "code",
   "execution_count": 1,
   "id": "c86e4c76-e077-4f58-81e6-71e284e0d6c3",
   "metadata": {},
   "outputs": [],
   "source": [
    "import pandas as pd\n",
    "import matplotlib.pyplot as plt\n",
    "import seaborn as sns \n",
    "import plotly.express as px"
   ]
  },
  {
   "cell_type": "code",
   "execution_count": 2,
   "id": "bd469278-074c-446d-bcf3-6f820968f9d3",
   "metadata": {},
   "outputs": [],
   "source": [
    "df=pd.read_csv(r\"C:\\Users\\caash\\Downloads\\day - day.csv\")"
   ]
  },
  {
   "cell_type": "code",
   "execution_count": 3,
   "id": "e64548ac-c74c-4cb9-a845-7e2e429c960f",
   "metadata": {},
   "outputs": [
    {
     "data": {
      "text/html": [
       "<div>\n",
       "<style scoped>\n",
       "    .dataframe tbody tr th:only-of-type {\n",
       "        vertical-align: middle;\n",
       "    }\n",
       "\n",
       "    .dataframe tbody tr th {\n",
       "        vertical-align: top;\n",
       "    }\n",
       "\n",
       "    .dataframe thead th {\n",
       "        text-align: right;\n",
       "    }\n",
       "</style>\n",
       "<table border=\"1\" class=\"dataframe\">\n",
       "  <thead>\n",
       "    <tr style=\"text-align: right;\">\n",
       "      <th></th>\n",
       "      <th>instant</th>\n",
       "      <th>dteday</th>\n",
       "      <th>season</th>\n",
       "      <th>yr</th>\n",
       "      <th>mnth</th>\n",
       "      <th>holiday</th>\n",
       "      <th>weekday</th>\n",
       "      <th>workingday</th>\n",
       "      <th>weathersit</th>\n",
       "      <th>temp</th>\n",
       "      <th>atemp</th>\n",
       "      <th>hum</th>\n",
       "      <th>windspeed</th>\n",
       "      <th>casual</th>\n",
       "      <th>registered</th>\n",
       "      <th>cnt</th>\n",
       "    </tr>\n",
       "  </thead>\n",
       "  <tbody>\n",
       "    <tr>\n",
       "      <th>0</th>\n",
       "      <td>1</td>\n",
       "      <td>2011-01-01</td>\n",
       "      <td>1</td>\n",
       "      <td>0</td>\n",
       "      <td>1</td>\n",
       "      <td>0</td>\n",
       "      <td>6</td>\n",
       "      <td>0</td>\n",
       "      <td>2</td>\n",
       "      <td>0.344167</td>\n",
       "      <td>0.363625</td>\n",
       "      <td>0.805833</td>\n",
       "      <td>0.160446</td>\n",
       "      <td>331</td>\n",
       "      <td>654</td>\n",
       "      <td>985</td>\n",
       "    </tr>\n",
       "    <tr>\n",
       "      <th>1</th>\n",
       "      <td>2</td>\n",
       "      <td>2011-01-02</td>\n",
       "      <td>1</td>\n",
       "      <td>0</td>\n",
       "      <td>1</td>\n",
       "      <td>0</td>\n",
       "      <td>0</td>\n",
       "      <td>0</td>\n",
       "      <td>2</td>\n",
       "      <td>0.363478</td>\n",
       "      <td>0.353739</td>\n",
       "      <td>0.696087</td>\n",
       "      <td>0.248539</td>\n",
       "      <td>131</td>\n",
       "      <td>670</td>\n",
       "      <td>801</td>\n",
       "    </tr>\n",
       "    <tr>\n",
       "      <th>2</th>\n",
       "      <td>3</td>\n",
       "      <td>2011-01-03</td>\n",
       "      <td>1</td>\n",
       "      <td>0</td>\n",
       "      <td>1</td>\n",
       "      <td>0</td>\n",
       "      <td>1</td>\n",
       "      <td>1</td>\n",
       "      <td>1</td>\n",
       "      <td>0.196364</td>\n",
       "      <td>0.189405</td>\n",
       "      <td>0.437273</td>\n",
       "      <td>0.248309</td>\n",
       "      <td>120</td>\n",
       "      <td>1229</td>\n",
       "      <td>1349</td>\n",
       "    </tr>\n",
       "    <tr>\n",
       "      <th>3</th>\n",
       "      <td>4</td>\n",
       "      <td>2011-01-04</td>\n",
       "      <td>1</td>\n",
       "      <td>0</td>\n",
       "      <td>1</td>\n",
       "      <td>0</td>\n",
       "      <td>2</td>\n",
       "      <td>1</td>\n",
       "      <td>1</td>\n",
       "      <td>0.200000</td>\n",
       "      <td>0.212122</td>\n",
       "      <td>0.590435</td>\n",
       "      <td>0.160296</td>\n",
       "      <td>108</td>\n",
       "      <td>1454</td>\n",
       "      <td>1562</td>\n",
       "    </tr>\n",
       "    <tr>\n",
       "      <th>4</th>\n",
       "      <td>5</td>\n",
       "      <td>2011-01-05</td>\n",
       "      <td>1</td>\n",
       "      <td>0</td>\n",
       "      <td>1</td>\n",
       "      <td>0</td>\n",
       "      <td>3</td>\n",
       "      <td>1</td>\n",
       "      <td>1</td>\n",
       "      <td>0.226957</td>\n",
       "      <td>0.229270</td>\n",
       "      <td>0.436957</td>\n",
       "      <td>0.186900</td>\n",
       "      <td>82</td>\n",
       "      <td>1518</td>\n",
       "      <td>1600</td>\n",
       "    </tr>\n",
       "  </tbody>\n",
       "</table>\n",
       "</div>"
      ],
      "text/plain": [
       "   instant      dteday  season  yr  mnth  holiday  weekday  workingday  \\\n",
       "0        1  2011-01-01       1   0     1        0        6           0   \n",
       "1        2  2011-01-02       1   0     1        0        0           0   \n",
       "2        3  2011-01-03       1   0     1        0        1           1   \n",
       "3        4  2011-01-04       1   0     1        0        2           1   \n",
       "4        5  2011-01-05       1   0     1        0        3           1   \n",
       "\n",
       "   weathersit      temp     atemp       hum  windspeed  casual  registered  \\\n",
       "0           2  0.344167  0.363625  0.805833   0.160446     331         654   \n",
       "1           2  0.363478  0.353739  0.696087   0.248539     131         670   \n",
       "2           1  0.196364  0.189405  0.437273   0.248309     120        1229   \n",
       "3           1  0.200000  0.212122  0.590435   0.160296     108        1454   \n",
       "4           1  0.226957  0.229270  0.436957   0.186900      82        1518   \n",
       "\n",
       "    cnt  \n",
       "0   985  \n",
       "1   801  \n",
       "2  1349  \n",
       "3  1562  \n",
       "4  1600  "
      ]
     },
     "execution_count": 3,
     "metadata": {},
     "output_type": "execute_result"
    }
   ],
   "source": [
    "df.head()"
   ]
  },
  {
   "cell_type": "code",
   "execution_count": 4,
   "id": "8a226c5d-67a7-4ede-bfee-6ee66494595d",
   "metadata": {},
   "outputs": [
    {
     "name": "stdout",
     "output_type": "stream",
     "text": [
      "<class 'pandas.core.frame.DataFrame'>\n",
      "RangeIndex: 731 entries, 0 to 730\n",
      "Data columns (total 16 columns):\n",
      " #   Column      Non-Null Count  Dtype  \n",
      "---  ------      --------------  -----  \n",
      " 0   instant     731 non-null    int64  \n",
      " 1   dteday      731 non-null    object \n",
      " 2   season      731 non-null    int64  \n",
      " 3   yr          731 non-null    int64  \n",
      " 4   mnth        731 non-null    int64  \n",
      " 5   holiday     731 non-null    int64  \n",
      " 6   weekday     731 non-null    int64  \n",
      " 7   workingday  731 non-null    int64  \n",
      " 8   weathersit  731 non-null    int64  \n",
      " 9   temp        731 non-null    float64\n",
      " 10  atemp       731 non-null    float64\n",
      " 11  hum         731 non-null    float64\n",
      " 12  windspeed   731 non-null    float64\n",
      " 13  casual      731 non-null    int64  \n",
      " 14  registered  731 non-null    int64  \n",
      " 15  cnt         731 non-null    int64  \n",
      "dtypes: float64(4), int64(11), object(1)\n",
      "memory usage: 91.5+ KB\n"
     ]
    }
   ],
   "source": [
    "df.info()"
   ]
  },
  {
   "cell_type": "code",
   "execution_count": 5,
   "id": "4d0724cb-32fc-48e9-98f6-fee3d4b083a2",
   "metadata": {},
   "outputs": [
    {
     "data": {
      "application/vnd.plotly.v1+json": {
       "config": {
        "plotlyServerURL": "https://plot.ly"
       },
       "data": [
        {
         "bingroup": "x",
         "hovertemplate": "temp=%{x}<br>count=%{y}<extra></extra>",
         "legendgroup": "",
         "marker": {
          "color": "#636efa",
          "pattern": {
           "shape": ""
          }
         },
         "name": "",
         "orientation": "v",
         "showlegend": false,
         "type": "histogram",
         "x": {
          "bdata": "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",
          "dtype": "f8"
         },
         "xaxis": "x",
         "yaxis": "y"
        }
       ],
       "layout": {
        "barmode": "relative",
        "legend": {
         "tracegroupgap": 0
        },
        "margin": {
         "t": 60
        },
        "template": {
         "data": {
          "bar": [
           {
            "error_x": {
             "color": "#2a3f5f"
            },
            "error_y": {
             "color": "#2a3f5f"
            },
            "marker": {
             "line": {
              "color": "#E5ECF6",
              "width": 0.5
             },
             "pattern": {
              "fillmode": "overlay",
              "size": 10,
              "solidity": 0.2
             }
            },
            "type": "bar"
           }
          ],
          "barpolar": [
           {
            "marker": {
             "line": {
              "color": "#E5ECF6",
              "width": 0.5
             },
             "pattern": {
              "fillmode": "overlay",
              "size": 10,
              "solidity": 0.2
             }
            },
            "type": "barpolar"
           }
          ],
          "carpet": [
           {
            "aaxis": {
             "endlinecolor": "#2a3f5f",
             "gridcolor": "white",
             "linecolor": "white",
             "minorgridcolor": "white",
             "startlinecolor": "#2a3f5f"
            },
            "baxis": {
             "endlinecolor": "#2a3f5f",
             "gridcolor": "white",
             "linecolor": "white",
             "minorgridcolor": "white",
             "startlinecolor": "#2a3f5f"
            },
            "type": "carpet"
           }
          ],
          "choropleth": [
           {
            "colorbar": {
             "outlinewidth": 0,
             "ticks": ""
            },
            "type": "choropleth"
           }
          ],
          "contour": [
           {
            "colorbar": {
             "outlinewidth": 0,
             "ticks": ""
            },
            "colorscale": [
             [
              0,
              "#0d0887"
             ],
             [
              0.1111111111111111,
              "#46039f"
             ],
             [
              0.2222222222222222,
              "#7201a8"
             ],
             [
              0.3333333333333333,
              "#9c179e"
             ],
             [
              0.4444444444444444,
              "#bd3786"
             ],
             [
              0.5555555555555556,
              "#d8576b"
             ],
             [
              0.6666666666666666,
              "#ed7953"
             ],
             [
              0.7777777777777778,
              "#fb9f3a"
             ],
             [
              0.8888888888888888,
              "#fdca26"
             ],
             [
              1,
              "#f0f921"
             ]
            ],
            "type": "contour"
           }
          ],
          "contourcarpet": [
           {
            "colorbar": {
             "outlinewidth": 0,
             "ticks": ""
            },
            "type": "contourcarpet"
           }
          ],
          "heatmap": [
           {
            "colorbar": {
             "outlinewidth": 0,
             "ticks": ""
            },
            "colorscale": [
             [
              0,
              "#0d0887"
             ],
             [
              0.1111111111111111,
              "#46039f"
             ],
             [
              0.2222222222222222,
              "#7201a8"
             ],
             [
              0.3333333333333333,
              "#9c179e"
             ],
             [
              0.4444444444444444,
              "#bd3786"
             ],
             [
              0.5555555555555556,
              "#d8576b"
             ],
             [
              0.6666666666666666,
              "#ed7953"
             ],
             [
              0.7777777777777778,
              "#fb9f3a"
             ],
             [
              0.8888888888888888,
              "#fdca26"
             ],
             [
              1,
              "#f0f921"
             ]
            ],
            "type": "heatmap"
           }
          ],
          "histogram": [
           {
            "marker": {
             "pattern": {
              "fillmode": "overlay",
              "size": 10,
              "solidity": 0.2
             }
            },
            "type": "histogram"
           }
          ],
          "histogram2d": [
           {
            "colorbar": {
             "outlinewidth": 0,
             "ticks": ""
            },
            "colorscale": [
             [
              0,
              "#0d0887"
             ],
             [
              0.1111111111111111,
              "#46039f"
             ],
             [
              0.2222222222222222,
              "#7201a8"
             ],
             [
              0.3333333333333333,
              "#9c179e"
             ],
             [
              0.4444444444444444,
              "#bd3786"
             ],
             [
              0.5555555555555556,
              "#d8576b"
             ],
             [
              0.6666666666666666,
              "#ed7953"
             ],
             [
              0.7777777777777778,
              "#fb9f3a"
             ],
             [
              0.8888888888888888,
              "#fdca26"
             ],
             [
              1,
              "#f0f921"
             ]
            ],
            "type": "histogram2d"
           }
          ],
          "histogram2dcontour": [
           {
            "colorbar": {
             "outlinewidth": 0,
             "ticks": ""
            },
            "colorscale": [
             [
              0,
              "#0d0887"
             ],
             [
              0.1111111111111111,
              "#46039f"
             ],
             [
              0.2222222222222222,
              "#7201a8"
             ],
             [
              0.3333333333333333,
              "#9c179e"
             ],
             [
              0.4444444444444444,
              "#bd3786"
             ],
             [
              0.5555555555555556,
              "#d8576b"
             ],
             [
              0.6666666666666666,
              "#ed7953"
             ],
             [
              0.7777777777777778,
              "#fb9f3a"
             ],
             [
              0.8888888888888888,
              "#fdca26"
             ],
             [
              1,
              "#f0f921"
             ]
            ],
            "type": "histogram2dcontour"
           }
          ],
          "mesh3d": [
           {
            "colorbar": {
             "outlinewidth": 0,
             "ticks": ""
            },
            "type": "mesh3d"
           }
          ],
          "parcoords": [
           {
            "line": {
             "colorbar": {
              "outlinewidth": 0,
              "ticks": ""
             }
            },
            "type": "parcoords"
           }
          ],
          "pie": [
           {
            "automargin": true,
            "type": "pie"
           }
          ],
          "scatter": [
           {
            "fillpattern": {
             "fillmode": "overlay",
             "size": 10,
             "solidity": 0.2
            },
            "type": "scatter"
           }
          ],
          "scatter3d": [
           {
            "line": {
             "colorbar": {
              "outlinewidth": 0,
              "ticks": ""
             }
            },
            "marker": {
             "colorbar": {
              "outlinewidth": 0,
              "ticks": ""
             }
            },
            "type": "scatter3d"
           }
          ],
          "scattercarpet": [
           {
            "marker": {
             "colorbar": {
              "outlinewidth": 0,
              "ticks": ""
             }
            },
            "type": "scattercarpet"
           }
          ],
          "scattergeo": [
           {
            "marker": {
             "colorbar": {
              "outlinewidth": 0,
              "ticks": ""
             }
            },
            "type": "scattergeo"
           }
          ],
          "scattergl": [
           {
            "marker": {
             "colorbar": {
              "outlinewidth": 0,
              "ticks": ""
             }
            },
            "type": "scattergl"
           }
          ],
          "scattermap": [
           {
            "marker": {
             "colorbar": {
              "outlinewidth": 0,
              "ticks": ""
             }
            },
            "type": "scattermap"
           }
          ],
          "scattermapbox": [
           {
            "marker": {
             "colorbar": {
              "outlinewidth": 0,
              "ticks": ""
             }
            },
            "type": "scattermapbox"
           }
          ],
          "scatterpolar": [
           {
            "marker": {
             "colorbar": {
              "outlinewidth": 0,
              "ticks": ""
             }
            },
            "type": "scatterpolar"
           }
          ],
          "scatterpolargl": [
           {
            "marker": {
             "colorbar": {
              "outlinewidth": 0,
              "ticks": ""
             }
            },
            "type": "scatterpolargl"
           }
          ],
          "scatterternary": [
           {
            "marker": {
             "colorbar": {
              "outlinewidth": 0,
              "ticks": ""
             }
            },
            "type": "scatterternary"
           }
          ],
          "surface": [
           {
            "colorbar": {
             "outlinewidth": 0,
             "ticks": ""
            },
            "colorscale": [
             [
              0,
              "#0d0887"
             ],
             [
              0.1111111111111111,
              "#46039f"
             ],
             [
              0.2222222222222222,
              "#7201a8"
             ],
             [
              0.3333333333333333,
              "#9c179e"
             ],
             [
              0.4444444444444444,
              "#bd3786"
             ],
             [
              0.5555555555555556,
              "#d8576b"
             ],
             [
              0.6666666666666666,
              "#ed7953"
             ],
             [
              0.7777777777777778,
              "#fb9f3a"
             ],
             [
              0.8888888888888888,
              "#fdca26"
             ],
             [
              1,
              "#f0f921"
             ]
            ],
            "type": "surface"
           }
          ],
          "table": [
           {
            "cells": {
             "fill": {
              "color": "#EBF0F8"
             },
             "line": {
              "color": "white"
             }
            },
            "header": {
             "fill": {
              "color": "#C8D4E3"
             },
             "line": {
              "color": "white"
             }
            },
            "type": "table"
           }
          ]
         },
         "layout": {
          "annotationdefaults": {
           "arrowcolor": "#2a3f5f",
           "arrowhead": 0,
           "arrowwidth": 1
          },
          "autotypenumbers": "strict",
          "coloraxis": {
           "colorbar": {
            "outlinewidth": 0,
            "ticks": ""
           }
          },
          "colorscale": {
           "diverging": [
            [
             0,
             "#8e0152"
            ],
            [
             0.1,
             "#c51b7d"
            ],
            [
             0.2,
             "#de77ae"
            ],
            [
             0.3,
             "#f1b6da"
            ],
            [
             0.4,
             "#fde0ef"
            ],
            [
             0.5,
             "#f7f7f7"
            ],
            [
             0.6,
             "#e6f5d0"
            ],
            [
             0.7,
             "#b8e186"
            ],
            [
             0.8,
             "#7fbc41"
            ],
            [
             0.9,
             "#4d9221"
            ],
            [
             1,
             "#276419"
            ]
           ],
           "sequential": [
            [
             0,
             "#0d0887"
            ],
            [
             0.1111111111111111,
             "#46039f"
            ],
            [
             0.2222222222222222,
             "#7201a8"
            ],
            [
             0.3333333333333333,
             "#9c179e"
            ],
            [
             0.4444444444444444,
             "#bd3786"
            ],
            [
             0.5555555555555556,
             "#d8576b"
            ],
            [
             0.6666666666666666,
             "#ed7953"
            ],
            [
             0.7777777777777778,
             "#fb9f3a"
            ],
            [
             0.8888888888888888,
             "#fdca26"
            ],
            [
             1,
             "#f0f921"
            ]
           ],
           "sequentialminus": [
            [
             0,
             "#0d0887"
            ],
            [
             0.1111111111111111,
             "#46039f"
            ],
            [
             0.2222222222222222,
             "#7201a8"
            ],
            [
             0.3333333333333333,
             "#9c179e"
            ],
            [
             0.4444444444444444,
             "#bd3786"
            ],
            [
             0.5555555555555556,
             "#d8576b"
            ],
            [
             0.6666666666666666,
             "#ed7953"
            ],
            [
             0.7777777777777778,
             "#fb9f3a"
            ],
            [
             0.8888888888888888,
             "#fdca26"
            ],
            [
             1,
             "#f0f921"
            ]
           ]
          },
          "colorway": [
           "#636efa",
           "#EF553B",
           "#00cc96",
           "#ab63fa",
           "#FFA15A",
           "#19d3f3",
           "#FF6692",
           "#B6E880",
           "#FF97FF",
           "#FECB52"
          ],
          "font": {
           "color": "#2a3f5f"
          },
          "geo": {
           "bgcolor": "white",
           "lakecolor": "white",
           "landcolor": "#E5ECF6",
           "showlakes": true,
           "showland": true,
           "subunitcolor": "white"
          },
          "hoverlabel": {
           "align": "left"
          },
          "hovermode": "closest",
          "mapbox": {
           "style": "light"
          },
          "paper_bgcolor": "white",
          "plot_bgcolor": "#E5ECF6",
          "polar": {
           "angularaxis": {
            "gridcolor": "white",
            "linecolor": "white",
            "ticks": ""
           },
           "bgcolor": "#E5ECF6",
           "radialaxis": {
            "gridcolor": "white",
            "linecolor": "white",
            "ticks": ""
           }
          },
          "scene": {
           "xaxis": {
            "backgroundcolor": "#E5ECF6",
            "gridcolor": "white",
            "gridwidth": 2,
            "linecolor": "white",
            "showbackground": true,
            "ticks": "",
            "zerolinecolor": "white"
           },
           "yaxis": {
            "backgroundcolor": "#E5ECF6",
            "gridcolor": "white",
            "gridwidth": 2,
            "linecolor": "white",
            "showbackground": true,
            "ticks": "",
            "zerolinecolor": "white"
           },
           "zaxis": {
            "backgroundcolor": "#E5ECF6",
            "gridcolor": "white",
            "gridwidth": 2,
            "linecolor": "white",
            "showbackground": true,
            "ticks": "",
            "zerolinecolor": "white"
           }
          },
          "shapedefaults": {
           "line": {
            "color": "#2a3f5f"
           }
          },
          "ternary": {
           "aaxis": {
            "gridcolor": "white",
            "linecolor": "white",
            "ticks": ""
           },
           "baxis": {
            "gridcolor": "white",
            "linecolor": "white",
            "ticks": ""
           },
           "bgcolor": "#E5ECF6",
           "caxis": {
            "gridcolor": "white",
            "linecolor": "white",
            "ticks": ""
           }
          },
          "title": {
           "x": 0.05
          },
          "xaxis": {
           "automargin": true,
           "gridcolor": "white",
           "linecolor": "white",
           "ticks": "",
           "title": {
            "standoff": 15
           },
           "zerolinecolor": "white",
           "zerolinewidth": 2
          },
          "yaxis": {
           "automargin": true,
           "gridcolor": "white",
           "linecolor": "white",
           "ticks": "",
           "title": {
            "standoff": 15
           },
           "zerolinecolor": "white",
           "zerolinewidth": 2
          }
         }
        },
        "xaxis": {
         "anchor": "y",
         "domain": [
          0,
          1
         ],
         "title": {
          "text": "temp"
         }
        },
        "yaxis": {
         "anchor": "x",
         "domain": [
          0,
          1
         ],
         "title": {
          "text": "count"
         }
        }
       }
      }
     },
     "metadata": {},
     "output_type": "display_data"
    }
   ],
   "source": [
    "fig=px.histogram(df,x=\"temp\")\n",
    "fig.show()"
   ]
  },
  {
   "cell_type": "code",
   "execution_count": 6,
   "id": "be066783-78a3-432b-934c-ce82ae04b5cc",
   "metadata": {},
   "outputs": [
    {
     "data": {
      "application/vnd.plotly.v1+json": {
       "config": {
        "plotlyServerURL": "https://plot.ly"
       },
       "data": [
        {
         "hovertemplate": "hum=%{x}<br>cnt=%{y}<extra></extra>",
         "legendgroup": "",
         "marker": {
          "color": "#636efa",
          "symbol": "circle"
         },
         "mode": "markers",
         "name": "",
         "orientation": "v",
         "showlegend": false,
         "type": "scatter",
         "x": {
          "bdata": "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",
          "dtype": "f8"
         },
         "xaxis": "x",
         "y": {
          "bdata": "2QMhA0UFGgZABkYG5gW/AzYDKQXvBIoEfgWNBeAEtAToA6sCcgaHBwcG1QPaA4gFwQf6Aa8BjwRKBEgE3QVQBfYFDgasBu0DVwawBvoFRQYCBtIGwAU1BnkHFwdDCKsJbwtjBhQHUwSqBX0HDwe1BbEHYgmmBTsHVgiVBpgHHQhdAlAHVQhjB28CuQdUCHEJ/gcICJAIuAqnDC0MpwkdCI8KSQhJB6IIwAmdBuwHeQkABpUGswjMCLEMKwwDB/gKRQy/BZcJTwsUDfIHcgjDDDYMGwOgDmUNhAxoD10QkwbED18Q6Q8wESAP2g/zEcAUFw0xEWMRSQpREQASahLtEAoRwxJWEAATCRBRDckRdg8bEA8P3xE1E60WNBKyEIwRchNFEkcSlhK0EgIQjg+GD2gTwBTeFCoTxBHhEjERSw/qEWYTbBGcExsTPBS3DuwS/xOIEqoP4xKbEbYSfxNSFLkUZBIoEmkUixXyFP8TKRKbFzkSFRLwEcgP2BQRE/YPohD2ENwTohUjF7YUahG9EewQyA47DdUMFg4AD+4RMBImEQYPexHOEKoQ7RL2DeARAhPGEMkO5hD6EawSuBIpEzYQ7A7yEHUSVhLdDjkQRxQhD5YSBxcKFNYNNRJbBO4QGhJUFMIT+xN3EoQRTBMXDZYKzAcyB9gN4RS2E2kSmxKxEksOmBKfEbIQuxE5DgARuxJbCS8VkhMWEhgQQw/nElIUfQlmC/INaBHaEp0SeRMhFYcV/RPTEXAJYQs8DmEUsRPaEYwSeAljENAQ1BAdEVsQTxI2D2MKow5zAgMNVQ7kD1oQhg/OD1YPQQ7DD20QDRB1CygN4w+FDoYRYxAZB+0LQA1PDsANzQpHBgYK1wXoCvwL/wsbD2ILHQ6PDmQPHg6dDeMOIgrBAvoMJA52DLcK7gzDDZwOfQ75DbMKfwlLDaYOZAr8C6EI8wPyAiUFigT+CHcJtwu1CfYInwe8CEAJyAwCEKkRYQ1ICQ4OgQgBEI4MvQkHCfoIdwswDdwMWwwVBbkHgAnzEK4Q6w+ADbcPqwwoDp0R4xGxDjcQEAuDC8gOFxHyCvYO9w55CPkFXg1SD0kQvQs6EN4QgQo5DMEOpRLGE58NrAo9DeIQCxEqB34TegziD18NBQ10DzQTBhXZERYQLxOyFNcWqBgwGBoRnB4EFwkYzRdWGNcaqiAsDYQTthXuE0IW9RdTFVsYmRcwF3QaJBk5GTwZyRoxFNEVHhf+EiEV/hgkHdwb4hgjGg8RpRl6HOAZAwSODAEWNBiiE1kYfBCgGMQVbBYZGBUZmBjjGtcYgRhgFm0SrBl2GwUd5hcbC/sTAB3YHNcdZiDZGwcRuReMFHIaThqIGb8ZmxdvFscaqhwfELgf2R1WG1kbjxtGHTgeSh3GGQgabBP9HMMc8R0WHkIb6xOpGkMYERe/FiId6xp7GhIdpxzfGlcVNxabFVMYBBrrHGEYPxjoEkASqRmSGGAcFh1LHTkbjxeuGoIaURa/Ge4WaxHyHDYbqB3tH80a+BodGsUZwRswHJwdXRwHHKgaWBVlG2kcbh12HJoWmxiQGeMagBqzHLUd7Bu5HsURghleG88cVR6eHaUXhxQFG4AbER4hHrYc/BeyFpIX0BrIGzsYUB1YFyMgZR1XHr4efB5JHwoipRzVGukPpx0oHucfyyDjHgwdch01HuEc9xxrIekaehofEpQdoBzcHx0ftg1mFfgYCx6SHXIcxRvvGfMWbh0lHVUdMBWaH6gakhsqHQ0evxwUHaweaxEWAEgEvhViF9cWEhTzE4sUNharE8MUaBeIGcQafRj+D3cVRRVCFv0VPRJ7FQIWGhR5CUYP5Qh4Cd8Tdw+MFMsUJBZHFCkSWhjOGWEW/xSQE84VnAwyFH0VxxScFesVtxPKDukRtRWTFCAQJw7VBvsGmAP1A7kBQggXDD0FBAepCg==",
          "dtype": "i2"
         },
         "yaxis": "y"
        }
       ],
       "layout": {
        "legend": {
         "tracegroupgap": 0
        },
        "margin": {
         "t": 60
        },
        "template": {
         "data": {
          "bar": [
           {
            "error_x": {
             "color": "#2a3f5f"
            },
            "error_y": {
             "color": "#2a3f5f"
            },
            "marker": {
             "line": {
              "color": "#E5ECF6",
              "width": 0.5
             },
             "pattern": {
              "fillmode": "overlay",
              "size": 10,
              "solidity": 0.2
             }
            },
            "type": "bar"
           }
          ],
          "barpolar": [
           {
            "marker": {
             "line": {
              "color": "#E5ECF6",
              "width": 0.5
             },
             "pattern": {
              "fillmode": "overlay",
              "size": 10,
              "solidity": 0.2
             }
            },
            "type": "barpolar"
           }
          ],
          "carpet": [
           {
            "aaxis": {
             "endlinecolor": "#2a3f5f",
             "gridcolor": "white",
             "linecolor": "white",
             "minorgridcolor": "white",
             "startlinecolor": "#2a3f5f"
            },
            "baxis": {
             "endlinecolor": "#2a3f5f",
             "gridcolor": "white",
             "linecolor": "white",
             "minorgridcolor": "white",
             "startlinecolor": "#2a3f5f"
            },
            "type": "carpet"
           }
          ],
          "choropleth": [
           {
            "colorbar": {
             "outlinewidth": 0,
             "ticks": ""
            },
            "type": "choropleth"
           }
          ],
          "contour": [
           {
            "colorbar": {
             "outlinewidth": 0,
             "ticks": ""
            },
            "colorscale": [
             [
              0,
              "#0d0887"
             ],
             [
              0.1111111111111111,
              "#46039f"
             ],
             [
              0.2222222222222222,
              "#7201a8"
             ],
             [
              0.3333333333333333,
              "#9c179e"
             ],
             [
              0.4444444444444444,
              "#bd3786"
             ],
             [
              0.5555555555555556,
              "#d8576b"
             ],
             [
              0.6666666666666666,
              "#ed7953"
             ],
             [
              0.7777777777777778,
              "#fb9f3a"
             ],
             [
              0.8888888888888888,
              "#fdca26"
             ],
             [
              1,
              "#f0f921"
             ]
            ],
            "type": "contour"
           }
          ],
          "contourcarpet": [
           {
            "colorbar": {
             "outlinewidth": 0,
             "ticks": ""
            },
            "type": "contourcarpet"
           }
          ],
          "heatmap": [
           {
            "colorbar": {
             "outlinewidth": 0,
             "ticks": ""
            },
            "colorscale": [
             [
              0,
              "#0d0887"
             ],
             [
              0.1111111111111111,
              "#46039f"
             ],
             [
              0.2222222222222222,
              "#7201a8"
             ],
             [
              0.3333333333333333,
              "#9c179e"
             ],
             [
              0.4444444444444444,
              "#bd3786"
             ],
             [
              0.5555555555555556,
              "#d8576b"
             ],
             [
              0.6666666666666666,
              "#ed7953"
             ],
             [
              0.7777777777777778,
              "#fb9f3a"
             ],
             [
              0.8888888888888888,
              "#fdca26"
             ],
             [
              1,
              "#f0f921"
             ]
            ],
            "type": "heatmap"
           }
          ],
          "histogram": [
           {
            "marker": {
             "pattern": {
              "fillmode": "overlay",
              "size": 10,
              "solidity": 0.2
             }
            },
            "type": "histogram"
           }
          ],
          "histogram2d": [
           {
            "colorbar": {
             "outlinewidth": 0,
             "ticks": ""
            },
            "colorscale": [
             [
              0,
              "#0d0887"
             ],
             [
              0.1111111111111111,
              "#46039f"
             ],
             [
              0.2222222222222222,
              "#7201a8"
             ],
             [
              0.3333333333333333,
              "#9c179e"
             ],
             [
              0.4444444444444444,
              "#bd3786"
             ],
             [
              0.5555555555555556,
              "#d8576b"
             ],
             [
              0.6666666666666666,
              "#ed7953"
             ],
             [
              0.7777777777777778,
              "#fb9f3a"
             ],
             [
              0.8888888888888888,
              "#fdca26"
             ],
             [
              1,
              "#f0f921"
             ]
            ],
            "type": "histogram2d"
           }
          ],
          "histogram2dcontour": [
           {
            "colorbar": {
             "outlinewidth": 0,
             "ticks": ""
            },
            "colorscale": [
             [
              0,
              "#0d0887"
             ],
             [
              0.1111111111111111,
              "#46039f"
             ],
             [
              0.2222222222222222,
              "#7201a8"
             ],
             [
              0.3333333333333333,
              "#9c179e"
             ],
             [
              0.4444444444444444,
              "#bd3786"
             ],
             [
              0.5555555555555556,
              "#d8576b"
             ],
             [
              0.6666666666666666,
              "#ed7953"
             ],
             [
              0.7777777777777778,
              "#fb9f3a"
             ],
             [
              0.8888888888888888,
              "#fdca26"
             ],
             [
              1,
              "#f0f921"
             ]
            ],
            "type": "histogram2dcontour"
           }
          ],
          "mesh3d": [
           {
            "colorbar": {
             "outlinewidth": 0,
             "ticks": ""
            },
            "type": "mesh3d"
           }
          ],
          "parcoords": [
           {
            "line": {
             "colorbar": {
              "outlinewidth": 0,
              "ticks": ""
             }
            },
            "type": "parcoords"
           }
          ],
          "pie": [
           {
            "automargin": true,
            "type": "pie"
           }
          ],
          "scatter": [
           {
            "fillpattern": {
             "fillmode": "overlay",
             "size": 10,
             "solidity": 0.2
            },
            "type": "scatter"
           }
          ],
          "scatter3d": [
           {
            "line": {
             "colorbar": {
              "outlinewidth": 0,
              "ticks": ""
             }
            },
            "marker": {
             "colorbar": {
              "outlinewidth": 0,
              "ticks": ""
             }
            },
            "type": "scatter3d"
           }
          ],
          "scattercarpet": [
           {
            "marker": {
             "colorbar": {
              "outlinewidth": 0,
              "ticks": ""
             }
            },
            "type": "scattercarpet"
           }
          ],
          "scattergeo": [
           {
            "marker": {
             "colorbar": {
              "outlinewidth": 0,
              "ticks": ""
             }
            },
            "type": "scattergeo"
           }
          ],
          "scattergl": [
           {
            "marker": {
             "colorbar": {
              "outlinewidth": 0,
              "ticks": ""
             }
            },
            "type": "scattergl"
           }
          ],
          "scattermap": [
           {
            "marker": {
             "colorbar": {
              "outlinewidth": 0,
              "ticks": ""
             }
            },
            "type": "scattermap"
           }
          ],
          "scattermapbox": [
           {
            "marker": {
             "colorbar": {
              "outlinewidth": 0,
              "ticks": ""
             }
            },
            "type": "scattermapbox"
           }
          ],
          "scatterpolar": [
           {
            "marker": {
             "colorbar": {
              "outlinewidth": 0,
              "ticks": ""
             }
            },
            "type": "scatterpolar"
           }
          ],
          "scatterpolargl": [
           {
            "marker": {
             "colorbar": {
              "outlinewidth": 0,
              "ticks": ""
             }
            },
            "type": "scatterpolargl"
           }
          ],
          "scatterternary": [
           {
            "marker": {
             "colorbar": {
              "outlinewidth": 0,
              "ticks": ""
             }
            },
            "type": "scatterternary"
           }
          ],
          "surface": [
           {
            "colorbar": {
             "outlinewidth": 0,
             "ticks": ""
            },
            "colorscale": [
             [
              0,
              "#0d0887"
             ],
             [
              0.1111111111111111,
              "#46039f"
             ],
             [
              0.2222222222222222,
              "#7201a8"
             ],
             [
              0.3333333333333333,
              "#9c179e"
             ],
             [
              0.4444444444444444,
              "#bd3786"
             ],
             [
              0.5555555555555556,
              "#d8576b"
             ],
             [
              0.6666666666666666,
              "#ed7953"
             ],
             [
              0.7777777777777778,
              "#fb9f3a"
             ],
             [
              0.8888888888888888,
              "#fdca26"
             ],
             [
              1,
              "#f0f921"
             ]
            ],
            "type": "surface"
           }
          ],
          "table": [
           {
            "cells": {
             "fill": {
              "color": "#EBF0F8"
             },
             "line": {
              "color": "white"
             }
            },
            "header": {
             "fill": {
              "color": "#C8D4E3"
             },
             "line": {
              "color": "white"
             }
            },
            "type": "table"
           }
          ]
         },
         "layout": {
          "annotationdefaults": {
           "arrowcolor": "#2a3f5f",
           "arrowhead": 0,
           "arrowwidth": 1
          },
          "autotypenumbers": "strict",
          "coloraxis": {
           "colorbar": {
            "outlinewidth": 0,
            "ticks": ""
           }
          },
          "colorscale": {
           "diverging": [
            [
             0,
             "#8e0152"
            ],
            [
             0.1,
             "#c51b7d"
            ],
            [
             0.2,
             "#de77ae"
            ],
            [
             0.3,
             "#f1b6da"
            ],
            [
             0.4,
             "#fde0ef"
            ],
            [
             0.5,
             "#f7f7f7"
            ],
            [
             0.6,
             "#e6f5d0"
            ],
            [
             0.7,
             "#b8e186"
            ],
            [
             0.8,
             "#7fbc41"
            ],
            [
             0.9,
             "#4d9221"
            ],
            [
             1,
             "#276419"
            ]
           ],
           "sequential": [
            [
             0,
             "#0d0887"
            ],
            [
             0.1111111111111111,
             "#46039f"
            ],
            [
             0.2222222222222222,
             "#7201a8"
            ],
            [
             0.3333333333333333,
             "#9c179e"
            ],
            [
             0.4444444444444444,
             "#bd3786"
            ],
            [
             0.5555555555555556,
             "#d8576b"
            ],
            [
             0.6666666666666666,
             "#ed7953"
            ],
            [
             0.7777777777777778,
             "#fb9f3a"
            ],
            [
             0.8888888888888888,
             "#fdca26"
            ],
            [
             1,
             "#f0f921"
            ]
           ],
           "sequentialminus": [
            [
             0,
             "#0d0887"
            ],
            [
             0.1111111111111111,
             "#46039f"
            ],
            [
             0.2222222222222222,
             "#7201a8"
            ],
            [
             0.3333333333333333,
             "#9c179e"
            ],
            [
             0.4444444444444444,
             "#bd3786"
            ],
            [
             0.5555555555555556,
             "#d8576b"
            ],
            [
             0.6666666666666666,
             "#ed7953"
            ],
            [
             0.7777777777777778,
             "#fb9f3a"
            ],
            [
             0.8888888888888888,
             "#fdca26"
            ],
            [
             1,
             "#f0f921"
            ]
           ]
          },
          "colorway": [
           "#636efa",
           "#EF553B",
           "#00cc96",
           "#ab63fa",
           "#FFA15A",
           "#19d3f3",
           "#FF6692",
           "#B6E880",
           "#FF97FF",
           "#FECB52"
          ],
          "font": {
           "color": "#2a3f5f"
          },
          "geo": {
           "bgcolor": "white",
           "lakecolor": "white",
           "landcolor": "#E5ECF6",
           "showlakes": true,
           "showland": true,
           "subunitcolor": "white"
          },
          "hoverlabel": {
           "align": "left"
          },
          "hovermode": "closest",
          "mapbox": {
           "style": "light"
          },
          "paper_bgcolor": "white",
          "plot_bgcolor": "#E5ECF6",
          "polar": {
           "angularaxis": {
            "gridcolor": "white",
            "linecolor": "white",
            "ticks": ""
           },
           "bgcolor": "#E5ECF6",
           "radialaxis": {
            "gridcolor": "white",
            "linecolor": "white",
            "ticks": ""
           }
          },
          "scene": {
           "xaxis": {
            "backgroundcolor": "#E5ECF6",
            "gridcolor": "white",
            "gridwidth": 2,
            "linecolor": "white",
            "showbackground": true,
            "ticks": "",
            "zerolinecolor": "white"
           },
           "yaxis": {
            "backgroundcolor": "#E5ECF6",
            "gridcolor": "white",
            "gridwidth": 2,
            "linecolor": "white",
            "showbackground": true,
            "ticks": "",
            "zerolinecolor": "white"
           },
           "zaxis": {
            "backgroundcolor": "#E5ECF6",
            "gridcolor": "white",
            "gridwidth": 2,
            "linecolor": "white",
            "showbackground": true,
            "ticks": "",
            "zerolinecolor": "white"
           }
          },
          "shapedefaults": {
           "line": {
            "color": "#2a3f5f"
           }
          },
          "ternary": {
           "aaxis": {
            "gridcolor": "white",
            "linecolor": "white",
            "ticks": ""
           },
           "baxis": {
            "gridcolor": "white",
            "linecolor": "white",
            "ticks": ""
           },
           "bgcolor": "#E5ECF6",
           "caxis": {
            "gridcolor": "white",
            "linecolor": "white",
            "ticks": ""
           }
          },
          "title": {
           "x": 0.05
          },
          "xaxis": {
           "automargin": true,
           "gridcolor": "white",
           "linecolor": "white",
           "ticks": "",
           "title": {
            "standoff": 15
           },
           "zerolinecolor": "white",
           "zerolinewidth": 2
          },
          "yaxis": {
           "automargin": true,
           "gridcolor": "white",
           "linecolor": "white",
           "ticks": "",
           "title": {
            "standoff": 15
           },
           "zerolinecolor": "white",
           "zerolinewidth": 2
          }
         }
        },
        "xaxis": {
         "anchor": "y",
         "domain": [
          0,
          1
         ],
         "title": {
          "text": "hum"
         }
        },
        "yaxis": {
         "anchor": "x",
         "domain": [
          0,
          1
         ],
         "title": {
          "text": "cnt"
         }
        }
       }
      }
     },
     "metadata": {},
     "output_type": "display_data"
    }
   ],
   "source": [
    "fig=px.scatter(df,x=\"hum\",y=\"cnt\")\n",
    "fig.show()"
   ]
  },
  {
   "cell_type": "code",
   "execution_count": 7,
   "id": "a45a3e03-a0c8-479a-92f3-3ab25b11e287",
   "metadata": {},
   "outputs": [
    {
     "data": {
      "application/vnd.plotly.v1+json": {
       "config": {
        "plotlyServerURL": "https://plot.ly"
       },
       "data": [
        {
         "hovertemplate": "temp=%{x}<br>atemp=%{y}<extra></extra>",
         "legendgroup": "",
         "line": {
          "color": "#636efa",
          "dash": "solid"
         },
         "marker": {
          "symbol": "circle"
         },
         "mode": "lines",
         "name": "",
         "orientation": "v",
         "showlegend": false,
         "type": "scatter",
         "x": {
          "bdata": "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",
          "dtype": "f8"
         },
         "xaxis": "x",
         "y": {
          "bdata": "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",
          "dtype": "f8"
         },
         "yaxis": "y"
        }
       ],
       "layout": {
        "legend": {
         "tracegroupgap": 0
        },
        "margin": {
         "t": 60
        },
        "template": {
         "data": {
          "bar": [
           {
            "error_x": {
             "color": "#2a3f5f"
            },
            "error_y": {
             "color": "#2a3f5f"
            },
            "marker": {
             "line": {
              "color": "#E5ECF6",
              "width": 0.5
             },
             "pattern": {
              "fillmode": "overlay",
              "size": 10,
              "solidity": 0.2
             }
            },
            "type": "bar"
           }
          ],
          "barpolar": [
           {
            "marker": {
             "line": {
              "color": "#E5ECF6",
              "width": 0.5
             },
             "pattern": {
              "fillmode": "overlay",
              "size": 10,
              "solidity": 0.2
             }
            },
            "type": "barpolar"
           }
          ],
          "carpet": [
           {
            "aaxis": {
             "endlinecolor": "#2a3f5f",
             "gridcolor": "white",
             "linecolor": "white",
             "minorgridcolor": "white",
             "startlinecolor": "#2a3f5f"
            },
            "baxis": {
             "endlinecolor": "#2a3f5f",
             "gridcolor": "white",
             "linecolor": "white",
             "minorgridcolor": "white",
             "startlinecolor": "#2a3f5f"
            },
            "type": "carpet"
           }
          ],
          "choropleth": [
           {
            "colorbar": {
             "outlinewidth": 0,
             "ticks": ""
            },
            "type": "choropleth"
           }
          ],
          "contour": [
           {
            "colorbar": {
             "outlinewidth": 0,
             "ticks": ""
            },
            "colorscale": [
             [
              0,
              "#0d0887"
             ],
             [
              0.1111111111111111,
              "#46039f"
             ],
             [
              0.2222222222222222,
              "#7201a8"
             ],
             [
              0.3333333333333333,
              "#9c179e"
             ],
             [
              0.4444444444444444,
              "#bd3786"
             ],
             [
              0.5555555555555556,
              "#d8576b"
             ],
             [
              0.6666666666666666,
              "#ed7953"
             ],
             [
              0.7777777777777778,
              "#fb9f3a"
             ],
             [
              0.8888888888888888,
              "#fdca26"
             ],
             [
              1,
              "#f0f921"
             ]
            ],
            "type": "contour"
           }
          ],
          "contourcarpet": [
           {
            "colorbar": {
             "outlinewidth": 0,
             "ticks": ""
            },
            "type": "contourcarpet"
           }
          ],
          "heatmap": [
           {
            "colorbar": {
             "outlinewidth": 0,
             "ticks": ""
            },
            "colorscale": [
             [
              0,
              "#0d0887"
             ],
             [
              0.1111111111111111,
              "#46039f"
             ],
             [
              0.2222222222222222,
              "#7201a8"
             ],
             [
              0.3333333333333333,
              "#9c179e"
             ],
             [
              0.4444444444444444,
              "#bd3786"
             ],
             [
              0.5555555555555556,
              "#d8576b"
             ],
             [
              0.6666666666666666,
              "#ed7953"
             ],
             [
              0.7777777777777778,
              "#fb9f3a"
             ],
             [
              0.8888888888888888,
              "#fdca26"
             ],
             [
              1,
              "#f0f921"
             ]
            ],
            "type": "heatmap"
           }
          ],
          "histogram": [
           {
            "marker": {
             "pattern": {
              "fillmode": "overlay",
              "size": 10,
              "solidity": 0.2
             }
            },
            "type": "histogram"
           }
          ],
          "histogram2d": [
           {
            "colorbar": {
             "outlinewidth": 0,
             "ticks": ""
            },
            "colorscale": [
             [
              0,
              "#0d0887"
             ],
             [
              0.1111111111111111,
              "#46039f"
             ],
             [
              0.2222222222222222,
              "#7201a8"
             ],
             [
              0.3333333333333333,
              "#9c179e"
             ],
             [
              0.4444444444444444,
              "#bd3786"
             ],
             [
              0.5555555555555556,
              "#d8576b"
             ],
             [
              0.6666666666666666,
              "#ed7953"
             ],
             [
              0.7777777777777778,
              "#fb9f3a"
             ],
             [
              0.8888888888888888,
              "#fdca26"
             ],
             [
              1,
              "#f0f921"
             ]
            ],
            "type": "histogram2d"
           }
          ],
          "histogram2dcontour": [
           {
            "colorbar": {
             "outlinewidth": 0,
             "ticks": ""
            },
            "colorscale": [
             [
              0,
              "#0d0887"
             ],
             [
              0.1111111111111111,
              "#46039f"
             ],
             [
              0.2222222222222222,
              "#7201a8"
             ],
             [
              0.3333333333333333,
              "#9c179e"
             ],
             [
              0.4444444444444444,
              "#bd3786"
             ],
             [
              0.5555555555555556,
              "#d8576b"
             ],
             [
              0.6666666666666666,
              "#ed7953"
             ],
             [
              0.7777777777777778,
              "#fb9f3a"
             ],
             [
              0.8888888888888888,
              "#fdca26"
             ],
             [
              1,
              "#f0f921"
             ]
            ],
            "type": "histogram2dcontour"
           }
          ],
          "mesh3d": [
           {
            "colorbar": {
             "outlinewidth": 0,
             "ticks": ""
            },
            "type": "mesh3d"
           }
          ],
          "parcoords": [
           {
            "line": {
             "colorbar": {
              "outlinewidth": 0,
              "ticks": ""
             }
            },
            "type": "parcoords"
           }
          ],
          "pie": [
           {
            "automargin": true,
            "type": "pie"
           }
          ],
          "scatter": [
           {
            "fillpattern": {
             "fillmode": "overlay",
             "size": 10,
             "solidity": 0.2
            },
            "type": "scatter"
           }
          ],
          "scatter3d": [
           {
            "line": {
             "colorbar": {
              "outlinewidth": 0,
              "ticks": ""
             }
            },
            "marker": {
             "colorbar": {
              "outlinewidth": 0,
              "ticks": ""
             }
            },
            "type": "scatter3d"
           }
          ],
          "scattercarpet": [
           {
            "marker": {
             "colorbar": {
              "outlinewidth": 0,
              "ticks": ""
             }
            },
            "type": "scattercarpet"
           }
          ],
          "scattergeo": [
           {
            "marker": {
             "colorbar": {
              "outlinewidth": 0,
              "ticks": ""
             }
            },
            "type": "scattergeo"
           }
          ],
          "scattergl": [
           {
            "marker": {
             "colorbar": {
              "outlinewidth": 0,
              "ticks": ""
             }
            },
            "type": "scattergl"
           }
          ],
          "scattermap": [
           {
            "marker": {
             "colorbar": {
              "outlinewidth": 0,
              "ticks": ""
             }
            },
            "type": "scattermap"
           }
          ],
          "scattermapbox": [
           {
            "marker": {
             "colorbar": {
              "outlinewidth": 0,
              "ticks": ""
             }
            },
            "type": "scattermapbox"
           }
          ],
          "scatterpolar": [
           {
            "marker": {
             "colorbar": {
              "outlinewidth": 0,
              "ticks": ""
             }
            },
            "type": "scatterpolar"
           }
          ],
          "scatterpolargl": [
           {
            "marker": {
             "colorbar": {
              "outlinewidth": 0,
              "ticks": ""
             }
            },
            "type": "scatterpolargl"
           }
          ],
          "scatterternary": [
           {
            "marker": {
             "colorbar": {
              "outlinewidth": 0,
              "ticks": ""
             }
            },
            "type": "scatterternary"
           }
          ],
          "surface": [
           {
            "colorbar": {
             "outlinewidth": 0,
             "ticks": ""
            },
            "colorscale": [
             [
              0,
              "#0d0887"
             ],
             [
              0.1111111111111111,
              "#46039f"
             ],
             [
              0.2222222222222222,
              "#7201a8"
             ],
             [
              0.3333333333333333,
              "#9c179e"
             ],
             [
              0.4444444444444444,
              "#bd3786"
             ],
             [
              0.5555555555555556,
              "#d8576b"
             ],
             [
              0.6666666666666666,
              "#ed7953"
             ],
             [
              0.7777777777777778,
              "#fb9f3a"
             ],
             [
              0.8888888888888888,
              "#fdca26"
             ],
             [
              1,
              "#f0f921"
             ]
            ],
            "type": "surface"
           }
          ],
          "table": [
           {
            "cells": {
             "fill": {
              "color": "#EBF0F8"
             },
             "line": {
              "color": "white"
             }
            },
            "header": {
             "fill": {
              "color": "#C8D4E3"
             },
             "line": {
              "color": "white"
             }
            },
            "type": "table"
           }
          ]
         },
         "layout": {
          "annotationdefaults": {
           "arrowcolor": "#2a3f5f",
           "arrowhead": 0,
           "arrowwidth": 1
          },
          "autotypenumbers": "strict",
          "coloraxis": {
           "colorbar": {
            "outlinewidth": 0,
            "ticks": ""
           }
          },
          "colorscale": {
           "diverging": [
            [
             0,
             "#8e0152"
            ],
            [
             0.1,
             "#c51b7d"
            ],
            [
             0.2,
             "#de77ae"
            ],
            [
             0.3,
             "#f1b6da"
            ],
            [
             0.4,
             "#fde0ef"
            ],
            [
             0.5,
             "#f7f7f7"
            ],
            [
             0.6,
             "#e6f5d0"
            ],
            [
             0.7,
             "#b8e186"
            ],
            [
             0.8,
             "#7fbc41"
            ],
            [
             0.9,
             "#4d9221"
            ],
            [
             1,
             "#276419"
            ]
           ],
           "sequential": [
            [
             0,
             "#0d0887"
            ],
            [
             0.1111111111111111,
             "#46039f"
            ],
            [
             0.2222222222222222,
             "#7201a8"
            ],
            [
             0.3333333333333333,
             "#9c179e"
            ],
            [
             0.4444444444444444,
             "#bd3786"
            ],
            [
             0.5555555555555556,
             "#d8576b"
            ],
            [
             0.6666666666666666,
             "#ed7953"
            ],
            [
             0.7777777777777778,
             "#fb9f3a"
            ],
            [
             0.8888888888888888,
             "#fdca26"
            ],
            [
             1,
             "#f0f921"
            ]
           ],
           "sequentialminus": [
            [
             0,
             "#0d0887"
            ],
            [
             0.1111111111111111,
             "#46039f"
            ],
            [
             0.2222222222222222,
             "#7201a8"
            ],
            [
             0.3333333333333333,
             "#9c179e"
            ],
            [
             0.4444444444444444,
             "#bd3786"
            ],
            [
             0.5555555555555556,
             "#d8576b"
            ],
            [
             0.6666666666666666,
             "#ed7953"
            ],
            [
             0.7777777777777778,
             "#fb9f3a"
            ],
            [
             0.8888888888888888,
             "#fdca26"
            ],
            [
             1,
             "#f0f921"
            ]
           ]
          },
          "colorway": [
           "#636efa",
           "#EF553B",
           "#00cc96",
           "#ab63fa",
           "#FFA15A",
           "#19d3f3",
           "#FF6692",
           "#B6E880",
           "#FF97FF",
           "#FECB52"
          ],
          "font": {
           "color": "#2a3f5f"
          },
          "geo": {
           "bgcolor": "white",
           "lakecolor": "white",
           "landcolor": "#E5ECF6",
           "showlakes": true,
           "showland": true,
           "subunitcolor": "white"
          },
          "hoverlabel": {
           "align": "left"
          },
          "hovermode": "closest",
          "mapbox": {
           "style": "light"
          },
          "paper_bgcolor": "white",
          "plot_bgcolor": "#E5ECF6",
          "polar": {
           "angularaxis": {
            "gridcolor": "white",
            "linecolor": "white",
            "ticks": ""
           },
           "bgcolor": "#E5ECF6",
           "radialaxis": {
            "gridcolor": "white",
            "linecolor": "white",
            "ticks": ""
           }
          },
          "scene": {
           "xaxis": {
            "backgroundcolor": "#E5ECF6",
            "gridcolor": "white",
            "gridwidth": 2,
            "linecolor": "white",
            "showbackground": true,
            "ticks": "",
            "zerolinecolor": "white"
           },
           "yaxis": {
            "backgroundcolor": "#E5ECF6",
            "gridcolor": "white",
            "gridwidth": 2,
            "linecolor": "white",
            "showbackground": true,
            "ticks": "",
            "zerolinecolor": "white"
           },
           "zaxis": {
            "backgroundcolor": "#E5ECF6",
            "gridcolor": "white",
            "gridwidth": 2,
            "linecolor": "white",
            "showbackground": true,
            "ticks": "",
            "zerolinecolor": "white"
           }
          },
          "shapedefaults": {
           "line": {
            "color": "#2a3f5f"
           }
          },
          "ternary": {
           "aaxis": {
            "gridcolor": "white",
            "linecolor": "white",
            "ticks": ""
           },
           "baxis": {
            "gridcolor": "white",
            "linecolor": "white",
            "ticks": ""
           },
           "bgcolor": "#E5ECF6",
           "caxis": {
            "gridcolor": "white",
            "linecolor": "white",
            "ticks": ""
           }
          },
          "title": {
           "x": 0.05
          },
          "xaxis": {
           "automargin": true,
           "gridcolor": "white",
           "linecolor": "white",
           "ticks": "",
           "title": {
            "standoff": 15
           },
           "zerolinecolor": "white",
           "zerolinewidth": 2
          },
          "yaxis": {
           "automargin": true,
           "gridcolor": "white",
           "linecolor": "white",
           "ticks": "",
           "title": {
            "standoff": 15
           },
           "zerolinecolor": "white",
           "zerolinewidth": 2
          }
         }
        },
        "xaxis": {
         "anchor": "y",
         "domain": [
          0,
          1
         ],
         "title": {
          "text": "temp"
         }
        },
        "yaxis": {
         "anchor": "x",
         "domain": [
          0,
          1
         ],
         "title": {
          "text": "atemp"
         }
        }
       }
      }
     },
     "metadata": {},
     "output_type": "display_data"
    }
   ],
   "source": [
    "fig=px.line(df,x=\"temp\",y=\"atemp\")\n",
    "fig.show()"
   ]
  },
  {
   "cell_type": "code",
   "execution_count": 8,
   "id": "52b6986d-5cf6-4d86-8b74-a016790bb5ee",
   "metadata": {},
   "outputs": [
    {
     "data": {
      "application/vnd.plotly.v1+json": {
       "config": {
        "plotlyServerURL": "https://plot.ly"
       },
       "data": [
        {
         "hovertemplate": "temp=%{x}<br>atemp=%{y}<br>cnt=%{marker.color}<extra></extra>",
         "legendgroup": "",
         "marker": {
          "color": {
           "bdata": "2QMhA0UFGgZABkYG5gW/AzYDKQXvBIoEfgWNBeAEtAToA6sCcgaHBwcG1QPaA4gFwQf6Aa8BjwRKBEgE3QVQBfYFDgasBu0DVwawBvoFRQYCBtIGwAU1BnkHFwdDCKsJbwtjBhQHUwSqBX0HDwe1BbEHYgmmBTsHVgiVBpgHHQhdAlAHVQhjB28CuQdUCHEJ/gcICJAIuAqnDC0MpwkdCI8KSQhJB6IIwAmdBuwHeQkABpUGswjMCLEMKwwDB/gKRQy/BZcJTwsUDfIHcgjDDDYMGwOgDmUNhAxoD10QkwbED18Q6Q8wESAP2g/zEcAUFw0xEWMRSQpREQASahLtEAoRwxJWEAATCRBRDckRdg8bEA8P3xE1E60WNBKyEIwRchNFEkcSlhK0EgIQjg+GD2gTwBTeFCoTxBHhEjERSw/qEWYTbBGcExsTPBS3DuwS/xOIEqoP4xKbEbYSfxNSFLkUZBIoEmkUixXyFP8TKRKbFzkSFRLwEcgP2BQRE/YPohD2ENwTohUjF7YUahG9EewQyA47DdUMFg4AD+4RMBImEQYPexHOEKoQ7RL2DeARAhPGEMkO5hD6EawSuBIpEzYQ7A7yEHUSVhLdDjkQRxQhD5YSBxcKFNYNNRJbBO4QGhJUFMIT+xN3EoQRTBMXDZYKzAcyB9gN4RS2E2kSmxKxEksOmBKfEbIQuxE5DgARuxJbCS8VkhMWEhgQQw/nElIUfQlmC/INaBHaEp0SeRMhFYcV/RPTEXAJYQs8DmEUsRPaEYwSeAljENAQ1BAdEVsQTxI2D2MKow5zAgMNVQ7kD1oQhg/OD1YPQQ7DD20QDRB1CygN4w+FDoYRYxAZB+0LQA1PDsANzQpHBgYK1wXoCvwL/wsbD2ILHQ6PDmQPHg6dDeMOIgrBAvoMJA52DLcK7gzDDZwOfQ75DbMKfwlLDaYOZAr8C6EI8wPyAiUFigT+CHcJtwu1CfYInwe8CEAJyAwCEKkRYQ1ICQ4OgQgBEI4MvQkHCfoIdwswDdwMWwwVBbkHgAnzEK4Q6w+ADbcPqwwoDp0R4xGxDjcQEAuDC8gOFxHyCvYO9w55CPkFXg1SD0kQvQs6EN4QgQo5DMEOpRLGE58NrAo9DeIQCxEqB34TegziD18NBQ10DzQTBhXZERYQLxOyFNcWqBgwGBoRnB4EFwkYzRdWGNcaqiAsDYQTthXuE0IW9RdTFVsYmRcwF3QaJBk5GTwZyRoxFNEVHhf+EiEV/hgkHdwb4hgjGg8RpRl6HOAZAwSODAEWNBiiE1kYfBCgGMQVbBYZGBUZmBjjGtcYgRhgFm0SrBl2GwUd5hcbC/sTAB3YHNcdZiDZGwcRuReMFHIaThqIGb8ZmxdvFscaqhwfELgf2R1WG1kbjxtGHTgeSh3GGQgabBP9HMMc8R0WHkIb6xOpGkMYERe/FiId6xp7GhIdpxzfGlcVNxabFVMYBBrrHGEYPxjoEkASqRmSGGAcFh1LHTkbjxeuGoIaURa/Ge4WaxHyHDYbqB3tH80a+BodGsUZwRswHJwdXRwHHKgaWBVlG2kcbh12HJoWmxiQGeMagBqzHLUd7Bu5HsURghleG88cVR6eHaUXhxQFG4AbER4hHrYc/BeyFpIX0BrIGzsYUB1YFyMgZR1XHr4efB5JHwoipRzVGukPpx0oHucfyyDjHgwdch01HuEc9xxrIekaehofEpQdoBzcHx0ftg1mFfgYCx6SHXIcxRvvGfMWbh0lHVUdMBWaH6gakhsqHQ0evxwUHaweaxEWAEgEvhViF9cWEhTzE4sUNharE8MUaBeIGcQafRj+D3cVRRVCFv0VPRJ7FQIWGhR5CUYP5Qh4Cd8Tdw+MFMsUJBZHFCkSWhjOGWEW/xSQE84VnAwyFH0VxxScFesVtxPKDukRtRWTFCAQJw7VBvsGmAP1A7kBQggXDD0FBAepCg==",
           "dtype": "i2"
          },
          "coloraxis": "coloraxis",
          "symbol": "circle"
         },
         "mode": "markers",
         "name": "",
         "orientation": "v",
         "showlegend": false,
         "type": "scatter",
         "x": {
          "bdata": "FjJXBtUG1j/1MLQ6OUPXP6FNDp90Isk/mpmZmZmZyT8tlExO7QzNP5FigEQTKMo/xeV4BaInyT8fhetRuB7FP5eRek/ltME/MCsU6X5Owz/EIoYdxqTFP71uERjrG8Y/H4XrUbgexT+eKXReY5fEP8DtCRLb3c0/xv1HpkOnzT9jXkccsoHGP9qrj4e+u8s/zXSvk/qy0j/OUNzxJr/QP7gehetRuMY/jBdm/FZGrj/ttNpopbW4P4M4auCi7rg//g+wVu2azD/Xo3A9CtfLP/YoXI/C9cg/bk26LZELyj/F5XgFoifJP1Sobi7+tss/B8+EJoklxz/OHJJaKJnIP6RwPQrXo9A/Dw9h/DTuxz86ysFsAgzLP8DtCRLb3c0/PIbHfhZL0j9ywRn8/WLRPyZUcHhBRMw/LESHwJFAwT/jGp/J/nnCP1Tle0YiNMg/exSuR+F6zD+Rup195UHUP4/C9Shcj9o/FQK5xJEH0T+G56ViY17UP9YfYRiw5Ns/ueAM/n6x4D+bHam+84vZP8vY0M3+QNI/Wwuz0M5p0z+UTE7tDFPHPxO2n4zxYcw/uM6/Xfbr0j+GOxdGelHXPxSuR+F6FNI/rU85Jov71T/AzeLFwhDaPyAJ+3YSEdE/cT0K16Nw1T9F2VvK+WLJP85Q3PEmv9A/pfRMLzGW2D9oXg677xjYP5mdRe9UwNA/uB6F61G40j/g9gSJ7e7SP3e/CvDd5tg/kbqdfeVB1D8gCft2EhHVP84ckloomdg/WpvG9lrQ1D/03EJXIlDUP+pdvB+3X9c/j8L1KFyP2j9I4XoUrkfhPz0K16NwPd4/SOF6FK5H1T/OcAM+P4zbP1M8LqpFRNw/xZEHIos01j89CtejcD3SP/esa7Qc6NA/9KRMamgD0T+i1F5E2zHQPyDVsN8T69A/XI/C9Shc0z8zMzMzMzPTPx0B3CxeLNE/MzMzMzMz0z8pXI/C9SjUPyfYf52bNtg/UfaWcr5Y4j+RRgVOtoHaP/SkTGpoA9k/AAAAAAAA3D9vufqxSX7VP+xRuB6F69U/XhPSGoNO2z/1gHnIlA/jPxSuR+F6FOA/ZmZmZmZm2j/sUbgehevdP6X0TC8xltw/hGdCk8SS2z9JZYo5CDrdP2ZmZmZmZuA/KJoHsMgv4D8K16NwPQrjP3LBGfz9Yt0/mx2pvvOL1T9xPQrXo3DdP6UyxRwEneI/cf+R6dBp4z8+zF62nTbkP9ejcD0K1+M/w/UoXI/C4z9SuB6F61HgPz0K16NwPd4/96xrtBzo3D+aWyGsxpLhP8O3sG68u+M/kUYFTraB2j9ywRn8/WLdP7qilBCsqt4/pHA9Ctej4D/huIybGujgPwrXo3A9CuE/CtejcD0K4T9cj8L1KFzhPx+F61G4HuE/ZmZmZmZm4D+jrrX3qargPwAAAAAAAOI/exSuR+F64j8BwocSLfnhP5qZmZmZmeE/9WbUfJX84D809bpFYCzhP0jhehSuR+M/XVFKCFZV4z8+zF62nTbkPx+F61G4HuU/HsNjP4sl5T+jrrX3qarmP9hl+E830OU/9WbUfJX85D9cj8L1KFzlP3B7gsR2d+c/zczMzMzM6D981jVaDnToP+F6FK5H4eY/16NwPQrX4z9SuB6F61HkP7hc/dgkv+Q/rYVZaOe05T+kcD0K16PmP8wKRbqf0+g/1uHoKt3d6T8pXI/C9SjoPzMzMzMzM+c/KVyPwvUo5j9SuB6F61HkP11RSghWVeM/FXDP86cN5D8U7L/OTRvkP86OVN/5xeQ/U3qmlxhL5j9nKO54k1/mP1K4HoXrUeQ/wjOhSWLJ5T9we4LEdnfnP0cf8wGBTuc/NPW6RWAs5z89CtejcD3mP8P1KFyPwuU/16NwPQrX5T/YZfhPN9DnP0cf8wGBTuc/U3qmlxhL5j8fhetRuB7nP5nXEYdsoOc/9+rjoe/u5j9IowIn20DnP+wTQDGy5Oc/CtejcD0K5z8AAAAAAADoP7ngDP5+seY/cHuCxHZ35z/sUbgehevnP2ZmZmZmZug/cf+R6dBp6T/sE0AxsuTnP8IzoUliyeU/MnGrIAY65T8BwocSLfnlPwuZK4NqA+c/7BNAMbLk5z/iPJzAdNroP48AbhYvlug/FK5H4XoU6j8ew2M/iyXrPzT1ukVgLOs/j8L1KFyP6j/CM6FJYsnnP7ngDP5+seg/zczMzMzM6D/36uOh7+7oP8wKRbqf0+o/w7ewbry76T/CM6FJYsnpP7ngDP5+seg/CRUcXhAR6T9x/5Hp0GnnP7gehetRuOY/uFz92CS/5j/36uOh7+7mP8P1KFyPwuc/exSuR+F66D/NzMzMzMzoP5CEfTuJiOg/9ihcj8L15j+jrrX3qarmP+uPMAxY8uU/rwlpjUGn5T9HH/MBgU7lP2ak3lM5beY/HsNjP4sl5z/OjlTf+cXmP+xRuB6F6+U/UrgehetR5j+4XP3YJL/mPyoeF9UiIuY/elImNbSB5D+EKcql8YvlP+wTQDGy5OU/ZmZmZmZm5j/D9Shcj8LlP3f1KjI6oOY/ZyjueJNf5D981jVaDnTkPwuZK4NqA+U/9ihcj8L15D+PAG4WL5bkP3H/kenQaeU/ueAM/n6x5j+EKcql8YvlP0jhehSuR+E/NPW6RWAs4z/CS3DqA0nkP83MzMzMzOQ/H4XrUbge5T/huIybGujkP7nGZ7J/nuQ/zApFup/T5D+EKcql8YvlP3sUrkfheuI/FjJXBtUG3j+Hb2HdeHffPz0K16NwPeA/mlshrMaS4T8BwocSLfnhPwrXo3A9CuM/FOy/zk0b5D+GrdnKS37jP3H/kenQaeM/U3qmlxhL5D/OjlTf+cXkP2co7niTX+Q/UrgehetR5D/Dt7BuvLvjPxVwz/OnDeI/PQrXo3A92j/j/iPTodPWP6X0TC8xltg/DFuzlZf83j8ycasgBjrhP7DL8J9uoN8/UfaWcr5Y4D+54Az+frHgP0cf8wGBTuE/PUhPkUNE4j8qHhfVIiLiP1vNOuP7YuE/4jycwHTa4j+Z1xGHbKDhPz7MXradNuA/ZyjueJNf4D8fR3Nk5RfhPwrXo3A9CuE/wvf+Bu1V4T9l4lZBDHTeP1yPwvUoXNs/CtejcD0K2z8MW7OVl/zaP5gVinQ/p90/P47myMov3j8MW7OVl/zePxSuR+F6FN4/HQHcLF4s1T9TPC6qRUTQP3yYvWw7bdQ/w/UoXI/C1T+YFYp0P6fZPylcj8L1KNg/Eyo4vCAi2j/BcRk3NdDZP/esa7Qc6NQ/PIbHfhZL1j9I4XoUrkfZPxMqOLwgIto/mpmZmZmZ2T9SuB6F61HYP85Q3PEmv9Q/4/4j06HT1j8n2H+dmzbcP/YoXI/C9eA/9ihcj8L14D9JZYo5CDrdP+3Vx0Pf3dU/mx2pvvOL0T8gCft2EhHVP5gVinQ/p90/pHA9Ctej3D+6opQQrKraPyfYf52bNtw/1h9hGLDk1z8AAAAAAADYP/578NqlDdg/csEZ/P1i3T/1LAjlfRzgP0Zda+9TVd0/zczMzMzM1D8AAAAAAADUPyrgnudPG9Q/NbdCWI0l0z8dAdwsXizVP6LsLeV8sdg/mpmZmZmZ3T89CtejcD3aP/SkTGpoA9E/jj7mAwKd0j+amZmZmZnRPyZUcHhBRMw/Y15HHLKBzj8UrkfhehTSP1K4HoXrUdQ/CtejcD0K2z8AAAAAAADYP3mQniKHiNA/Y15HHLKBzj/EeTiB6bTRP6LsLeV8sdg/Wwuz0M5p2z8JU5RL4xfbP9YfYRiw5Nc/XI/C9Shc0z8My59vC5bRP3BBtixfl9Q/zczMzMzM1D+iKNAn8iTTP6s/wjBgyc8/AoQPJVry0z89CtejcD3aP65H4XoUrtc/6bXZWIl50T8zMzMzMzPDP4XrUbgehbs/9KRMamgD0T9ywRn8/WLVPx0B3CxeLNk/mpmZmZmZ1T/Q1OsWgbHMPyv8Gd6swdM/mx2pvvOL0T97FK5H4XrYP5sdqb7zi9E/CtejcD0Kxz90RSkhWFXFP1K4HoXrUcg/UBxAv+/f1z9bC7PQzmnTP1K4HoXrUcg/16NwPQrXyz8RpiiXxi/GP83MzMzMzMQ/1JtR81Xyyz/sUbgehevVP+P+I9Oh09I/7dXHQ9/d1T8zMzMzMzPbPyfYf52bNtQ/FK5H4XoU0j9JZYo5CDrRP/YoXI/C9dg/FjJXBtUG3j+bHam+84vZP/578NqlDdQ/96xrtBzo0D/0pExqaAPRP3KJIw9EFtI/uqKUEKyq1j98mL1sO23QP/YoXI/C9dA/6s2o+Sr50T/Q1OsWgbHMP1K4HoXrUcA/exSuR+F6zD98mL1sO23UPzyGx34WS9Y/UzwuqkVE1D/qzaj5KvnVPz+O5sjKL9Y/7FG4HoXr0T/sUbgehevRP1IQPL69a9I/Rl1r71NV2T8gCft2EhHdPxSuR+F6FNo/jj7mAwKd0j/t1cdD393RP4dvYd14d9c/DFuzlZf81j8+WpwxzAnWPwlTlEvjF98/jj7mAwKd1j+RRgVOtoHaP8tIvady2tQ/B8+EJoklzz95kJ4ih4jQP+3Vx0Pf3dk/4XoUrkfh4D88hsd+FkvaP2ZmZmZmZtI//wOsVbsm1z/t1cdD393dPxSuR+F6FOI/UrgehetR4j/Xo3A9CtfhP9YfYRiw5Ns/fNY1Wg504D89CtejcD3eP3E9CtejcOE/648wDFjy4T8LmSuDagPhP8O3sG68u+E/SKMCJ9tA4z8UrkfhehTgPwAAAAAAANw/eZCeIoeI3D+i7C3lfLHUPwxbs5WX/N4/sMvwn26g3z+uR+F6FK7XPzW3QliNJds/Mq8jDtlA2z+4yhMIO8XbP+3Vx0Pf3d0/XVFKCFZV4T/Xo3A9CtfbP8FxGTc10Nk/AAAAAAAA3D8AAAAAAADgP14T0hqDTt8/pfRMLzGW3D+6vg8HCVHWP3E9CtejcNk/UrgehetR3D+uR+F6FK7fP3H/kenQaeM/SKMCJ9tA5T9we4LEdnfjP5gVinQ/p90/1h9hGLDk3z/iPJzAdNrgPz0K16NwPeI/csEZ/P1i2T+l9EwvMZbUP2XiVkEMdNo/kUYFTraB3j/WH2EYsOTfP0jhehSuR90/KuCe508b2D9GXWvvU1XdP8R5OIHptN0/mdcRh2yg4z8VcM/zpw3iP+xRuB6F6+E/FK5H4XoU5D/sE0AxsuTjPwAAAAAAAOI/MzMzMzMz4T+lMsUcBJ3iP2ZmZmZmZuI/KJoHsMgv4D8JFRxeEBHhPxVwz/OnDeI/mpmZmZmZ4z9R9pZyvljiP5pbIazGkuM/ZyjueJNf5D/1ZtR8lfziPxVwz/OnDeI/MzMzMzMz4z/W4egq3d3jPx7DYz+LJeM/rkfhehSu4z/sE0AxsuTjP/YoXI/C9eQ/w/UoXI/C5T8pXI/C9SjmPxSuR+F6FOY/zczMzMzM5j8fhetRuB7nPwuZK4NqA+U/w/UoXI/C5T/36uOh7+7kP6OutfepquI/SOF6FK5H4z8fhetRuB7jP0cf8wGBTuE/w7ewbry74T9I4XoUrkfjP86OVN/5xeQ/uFz92CS/5j9IowIn20DnPwkVHF4QEec/4biMmxro5D/1ZtR8lfzkP7hc/dgkv+Q/fNY1Wg505D8+zF62nTbkP/YoXI/C9eI/KJoHsMgv4j//PXjt0gbmPwrXo3A9Cuk/wjOhSWLJ6T/hehSuR+HoP3H/kenQaec/wjOhSWLJ5z/huIybGujmPyiaB7DIL+Q/UrgehetR5j8BwocSLfnnP7ngDP5+seo/exSuR+F66D8U7L/OTRvqPwuZK4NqA+k/9WbUfJX86D9IowIn20DpP3sUrkfheuo/elImNbSB6j+aWyGsxpLrP1K4HoXrUeo/uFz92CS/5j8JFRxeEBHnP/fq46Hv7uY/4biMmxro5j9x/5Hp0GnnP3pSJjW0geY/1uHoKt3d5z9mpN5TOW3oPyiaB7DIL+o/W8064/ti6T+kcD0K16PoP0cf8wGBTuU/CRUcXhAR4z9cj8L1KFzlP8O3sG68u+c//z147dIG6D809bpFYCznP+I8nMB02ug/C5krg2oD6T8omgewyC/oPx9Hc2TlF+c/W8064/ti5z/MCkW6n9PmP/YoXI/C9eY/FK5H4XoU6D96UiY1tIHoP1vNOuP7Yuk/pTLFHASd6D8UrkfhehToP4QpyqXxi+c/AAAAAAAA6D8omgewyC/oP+G4jJsa6OY/KVyPwvUo5j9mpN5TOW3mPwkVHF4QEec/SKMCJ9tA5z+lMsUcBJ3mPwuZK4NqA+c/HsNjP4sl5z+thVlo57TlP1H2lnK+WOQ/UfaWcr5Y5D/OjlTf+cXkP1yPwvUoXOU/PUhPkUNE5j97FK5H4XrmPzT1ukVgLOU/4biMmxro5D96UiY1tIHmP0cf8wGBTuc/7FG4HoXr5T+lMsUcBJ3mP3zWNVoOdOg/FOy/zk0b6D9TeqaXGEvmP6RwPQrXo+Y/MnGrIAY65z+aWyGsxpLnP1N6ppcYS+Y/elImNbSB5j8fR3Nk5RflP4XrUbgeheM/o66196mq4j97FK5H4XriPzT1ukVgLOM/mpmZmZmZ4z89SE+RQ0TkP3B7gsR2d+M/j8L1KFyP4j+PAG4WL5biP+uPMAxY8uM/rkfhehSu4T+GrdnKS37hPzT1ukVgLOM/zczMzMzM5D/36uOh7+7gP3zWNVoOdOA/mpmZmZmZ4T9SuB6F61HkP83MzMzMzOQ/2GX4TzfQ4z9cj8L1KFzhP+I8nMB02uA/o66196mq4D/huIybGujiPwrXo3A9CuU/CtejcD0K5T+uR+F6FK7jP8O3sG68u+E/jj7mAwKd2j95kJ4ih4jYP6X0TC8xltw/fNY1Wg504D/Xo3A9CtfbPwAAAAAAANw/HQHcLF4s2T+54Az+frHgPwHChxIt+eE/6s2o+Sr53T8dAdwsXizdP7gehetRuOA//z147dIG4j8MW7OVl/zeP8R5OIHptN0/MzMzMzMz3z9x/5Hp0GnhP83MzMzMzOI/mpmZmZmZ4T9we4LEdnfhP/YoXI/C9eA/j8L1KFyP3j8pXI/C9SjcP31BCwkYXdQ/4XoUrkfh1j9bC7PQzmnXP7gehetRuNY/6s2o+Sr51T/LSL2nctrUP3yYvWw7bdQ/6s2o+Sr50T/g9gSJ7e7SP6QYINEEitY/NbdCWI0l1z/3rGu0HOjYP+D2BInt7to/CtejcD0K3z/qzaj5KvnVP5FGBU62gdI/pfRMLzGW1D8UrkfhehTWP83MzMzMzNQ/7FG4HoXr1T9QNA9gkV/YPwKEDyVa8tc/jj7mAwKd1j/D9Shcj8LVP4RnQpPEktc/wXEZNzXQ0T9Zh6OrdHfPP/578NqlDdQ/uqKUEKyq0j8MW7OVl/zSP31cGyrG+dE/CVOUS+MX0z8JU5RL4xfTPz0K16NwPdY/9ihcj8L13D9l4lZBDHTeP/578NqlDdw/UDQPYJFf0D95kJ4ih4jUP3yYvWw7bdg/pfRMLzGW2D/WH2EYsOTbP44+5gMCndY/CtejcD0K0z/g9gSJ7e7SPxYyVwbVBtI/zlDc8Sa/1D8zMzMzMzPXPx0B3CxeLNk/PIbHfhZL2j9I4XoUrkfVPx+F61G4HtU/96xrtBzo1D/0pExqaAPRP1mHo6t0d88/yoy3lV6bzT88akyIuaTSPwfPhCaJJc8/UzwuqkVE0D8n2H+dmzbQPyfYf52bNtA/UDQPYJFf0D+C4zJuaqDLPw==",
          "dtype": "f8"
         },
         "xaxis": "x",
         "y": {
          "bdata": "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",
          "dtype": "f8"
         },
         "yaxis": "y"
        }
       ],
       "layout": {
        "coloraxis": {
         "colorbar": {
          "title": {
           "text": "cnt"
          }
         },
         "colorscale": [
          [
           0,
           "#0d0887"
          ],
          [
           0.1111111111111111,
           "#46039f"
          ],
          [
           0.2222222222222222,
           "#7201a8"
          ],
          [
           0.3333333333333333,
           "#9c179e"
          ],
          [
           0.4444444444444444,
           "#bd3786"
          ],
          [
           0.5555555555555556,
           "#d8576b"
          ],
          [
           0.6666666666666666,
           "#ed7953"
          ],
          [
           0.7777777777777778,
           "#fb9f3a"
          ],
          [
           0.8888888888888888,
           "#fdca26"
          ],
          [
           1,
           "#f0f921"
          ]
         ]
        },
        "legend": {
         "tracegroupgap": 0
        },
        "margin": {
         "t": 60
        },
        "template": {
         "data": {
          "bar": [
           {
            "error_x": {
             "color": "#2a3f5f"
            },
            "error_y": {
             "color": "#2a3f5f"
            },
            "marker": {
             "line": {
              "color": "#E5ECF6",
              "width": 0.5
             },
             "pattern": {
              "fillmode": "overlay",
              "size": 10,
              "solidity": 0.2
             }
            },
            "type": "bar"
           }
          ],
          "barpolar": [
           {
            "marker": {
             "line": {
              "color": "#E5ECF6",
              "width": 0.5
             },
             "pattern": {
              "fillmode": "overlay",
              "size": 10,
              "solidity": 0.2
             }
            },
            "type": "barpolar"
           }
          ],
          "carpet": [
           {
            "aaxis": {
             "endlinecolor": "#2a3f5f",
             "gridcolor": "white",
             "linecolor": "white",
             "minorgridcolor": "white",
             "startlinecolor": "#2a3f5f"
            },
            "baxis": {
             "endlinecolor": "#2a3f5f",
             "gridcolor": "white",
             "linecolor": "white",
             "minorgridcolor": "white",
             "startlinecolor": "#2a3f5f"
            },
            "type": "carpet"
           }
          ],
          "choropleth": [
           {
            "colorbar": {
             "outlinewidth": 0,
             "ticks": ""
            },
            "type": "choropleth"
           }
          ],
          "contour": [
           {
            "colorbar": {
             "outlinewidth": 0,
             "ticks": ""
            },
            "colorscale": [
             [
              0,
              "#0d0887"
             ],
             [
              0.1111111111111111,
              "#46039f"
             ],
             [
              0.2222222222222222,
              "#7201a8"
             ],
             [
              0.3333333333333333,
              "#9c179e"
             ],
             [
              0.4444444444444444,
              "#bd3786"
             ],
             [
              0.5555555555555556,
              "#d8576b"
             ],
             [
              0.6666666666666666,
              "#ed7953"
             ],
             [
              0.7777777777777778,
              "#fb9f3a"
             ],
             [
              0.8888888888888888,
              "#fdca26"
             ],
             [
              1,
              "#f0f921"
             ]
            ],
            "type": "contour"
           }
          ],
          "contourcarpet": [
           {
            "colorbar": {
             "outlinewidth": 0,
             "ticks": ""
            },
            "type": "contourcarpet"
           }
          ],
          "heatmap": [
           {
            "colorbar": {
             "outlinewidth": 0,
             "ticks": ""
            },
            "colorscale": [
             [
              0,
              "#0d0887"
             ],
             [
              0.1111111111111111,
              "#46039f"
             ],
             [
              0.2222222222222222,
              "#7201a8"
             ],
             [
              0.3333333333333333,
              "#9c179e"
             ],
             [
              0.4444444444444444,
              "#bd3786"
             ],
             [
              0.5555555555555556,
              "#d8576b"
             ],
             [
              0.6666666666666666,
              "#ed7953"
             ],
             [
              0.7777777777777778,
              "#fb9f3a"
             ],
             [
              0.8888888888888888,
              "#fdca26"
             ],
             [
              1,
              "#f0f921"
             ]
            ],
            "type": "heatmap"
           }
          ],
          "histogram": [
           {
            "marker": {
             "pattern": {
              "fillmode": "overlay",
              "size": 10,
              "solidity": 0.2
             }
            },
            "type": "histogram"
           }
          ],
          "histogram2d": [
           {
            "colorbar": {
             "outlinewidth": 0,
             "ticks": ""
            },
            "colorscale": [
             [
              0,
              "#0d0887"
             ],
             [
              0.1111111111111111,
              "#46039f"
             ],
             [
              0.2222222222222222,
              "#7201a8"
             ],
             [
              0.3333333333333333,
              "#9c179e"
             ],
             [
              0.4444444444444444,
              "#bd3786"
             ],
             [
              0.5555555555555556,
              "#d8576b"
             ],
             [
              0.6666666666666666,
              "#ed7953"
             ],
             [
              0.7777777777777778,
              "#fb9f3a"
             ],
             [
              0.8888888888888888,
              "#fdca26"
             ],
             [
              1,
              "#f0f921"
             ]
            ],
            "type": "histogram2d"
           }
          ],
          "histogram2dcontour": [
           {
            "colorbar": {
             "outlinewidth": 0,
             "ticks": ""
            },
            "colorscale": [
             [
              0,
              "#0d0887"
             ],
             [
              0.1111111111111111,
              "#46039f"
             ],
             [
              0.2222222222222222,
              "#7201a8"
             ],
             [
              0.3333333333333333,
              "#9c179e"
             ],
             [
              0.4444444444444444,
              "#bd3786"
             ],
             [
              0.5555555555555556,
              "#d8576b"
             ],
             [
              0.6666666666666666,
              "#ed7953"
             ],
             [
              0.7777777777777778,
              "#fb9f3a"
             ],
             [
              0.8888888888888888,
              "#fdca26"
             ],
             [
              1,
              "#f0f921"
             ]
            ],
            "type": "histogram2dcontour"
           }
          ],
          "mesh3d": [
           {
            "colorbar": {
             "outlinewidth": 0,
             "ticks": ""
            },
            "type": "mesh3d"
           }
          ],
          "parcoords": [
           {
            "line": {
             "colorbar": {
              "outlinewidth": 0,
              "ticks": ""
             }
            },
            "type": "parcoords"
           }
          ],
          "pie": [
           {
            "automargin": true,
            "type": "pie"
           }
          ],
          "scatter": [
           {
            "fillpattern": {
             "fillmode": "overlay",
             "size": 10,
             "solidity": 0.2
            },
            "type": "scatter"
           }
          ],
          "scatter3d": [
           {
            "line": {
             "colorbar": {
              "outlinewidth": 0,
              "ticks": ""
             }
            },
            "marker": {
             "colorbar": {
              "outlinewidth": 0,
              "ticks": ""
             }
            },
            "type": "scatter3d"
           }
          ],
          "scattercarpet": [
           {
            "marker": {
             "colorbar": {
              "outlinewidth": 0,
              "ticks": ""
             }
            },
            "type": "scattercarpet"
           }
          ],
          "scattergeo": [
           {
            "marker": {
             "colorbar": {
              "outlinewidth": 0,
              "ticks": ""
             }
            },
            "type": "scattergeo"
           }
          ],
          "scattergl": [
           {
            "marker": {
             "colorbar": {
              "outlinewidth": 0,
              "ticks": ""
             }
            },
            "type": "scattergl"
           }
          ],
          "scattermap": [
           {
            "marker": {
             "colorbar": {
              "outlinewidth": 0,
              "ticks": ""
             }
            },
            "type": "scattermap"
           }
          ],
          "scattermapbox": [
           {
            "marker": {
             "colorbar": {
              "outlinewidth": 0,
              "ticks": ""
             }
            },
            "type": "scattermapbox"
           }
          ],
          "scatterpolar": [
           {
            "marker": {
             "colorbar": {
              "outlinewidth": 0,
              "ticks": ""
             }
            },
            "type": "scatterpolar"
           }
          ],
          "scatterpolargl": [
           {
            "marker": {
             "colorbar": {
              "outlinewidth": 0,
              "ticks": ""
             }
            },
            "type": "scatterpolargl"
           }
          ],
          "scatterternary": [
           {
            "marker": {
             "colorbar": {
              "outlinewidth": 0,
              "ticks": ""
             }
            },
            "type": "scatterternary"
           }
          ],
          "surface": [
           {
            "colorbar": {
             "outlinewidth": 0,
             "ticks": ""
            },
            "colorscale": [
             [
              0,
              "#0d0887"
             ],
             [
              0.1111111111111111,
              "#46039f"
             ],
             [
              0.2222222222222222,
              "#7201a8"
             ],
             [
              0.3333333333333333,
              "#9c179e"
             ],
             [
              0.4444444444444444,
              "#bd3786"
             ],
             [
              0.5555555555555556,
              "#d8576b"
             ],
             [
              0.6666666666666666,
              "#ed7953"
             ],
             [
              0.7777777777777778,
              "#fb9f3a"
             ],
             [
              0.8888888888888888,
              "#fdca26"
             ],
             [
              1,
              "#f0f921"
             ]
            ],
            "type": "surface"
           }
          ],
          "table": [
           {
            "cells": {
             "fill": {
              "color": "#EBF0F8"
             },
             "line": {
              "color": "white"
             }
            },
            "header": {
             "fill": {
              "color": "#C8D4E3"
             },
             "line": {
              "color": "white"
             }
            },
            "type": "table"
           }
          ]
         },
         "layout": {
          "annotationdefaults": {
           "arrowcolor": "#2a3f5f",
           "arrowhead": 0,
           "arrowwidth": 1
          },
          "autotypenumbers": "strict",
          "coloraxis": {
           "colorbar": {
            "outlinewidth": 0,
            "ticks": ""
           }
          },
          "colorscale": {
           "diverging": [
            [
             0,
             "#8e0152"
            ],
            [
             0.1,
             "#c51b7d"
            ],
            [
             0.2,
             "#de77ae"
            ],
            [
             0.3,
             "#f1b6da"
            ],
            [
             0.4,
             "#fde0ef"
            ],
            [
             0.5,
             "#f7f7f7"
            ],
            [
             0.6,
             "#e6f5d0"
            ],
            [
             0.7,
             "#b8e186"
            ],
            [
             0.8,
             "#7fbc41"
            ],
            [
             0.9,
             "#4d9221"
            ],
            [
             1,
             "#276419"
            ]
           ],
           "sequential": [
            [
             0,
             "#0d0887"
            ],
            [
             0.1111111111111111,
             "#46039f"
            ],
            [
             0.2222222222222222,
             "#7201a8"
            ],
            [
             0.3333333333333333,
             "#9c179e"
            ],
            [
             0.4444444444444444,
             "#bd3786"
            ],
            [
             0.5555555555555556,
             "#d8576b"
            ],
            [
             0.6666666666666666,
             "#ed7953"
            ],
            [
             0.7777777777777778,
             "#fb9f3a"
            ],
            [
             0.8888888888888888,
             "#fdca26"
            ],
            [
             1,
             "#f0f921"
            ]
           ],
           "sequentialminus": [
            [
             0,
             "#0d0887"
            ],
            [
             0.1111111111111111,
             "#46039f"
            ],
            [
             0.2222222222222222,
             "#7201a8"
            ],
            [
             0.3333333333333333,
             "#9c179e"
            ],
            [
             0.4444444444444444,
             "#bd3786"
            ],
            [
             0.5555555555555556,
             "#d8576b"
            ],
            [
             0.6666666666666666,
             "#ed7953"
            ],
            [
             0.7777777777777778,
             "#fb9f3a"
            ],
            [
             0.8888888888888888,
             "#fdca26"
            ],
            [
             1,
             "#f0f921"
            ]
           ]
          },
          "colorway": [
           "#636efa",
           "#EF553B",
           "#00cc96",
           "#ab63fa",
           "#FFA15A",
           "#19d3f3",
           "#FF6692",
           "#B6E880",
           "#FF97FF",
           "#FECB52"
          ],
          "font": {
           "color": "#2a3f5f"
          },
          "geo": {
           "bgcolor": "white",
           "lakecolor": "white",
           "landcolor": "#E5ECF6",
           "showlakes": true,
           "showland": true,
           "subunitcolor": "white"
          },
          "hoverlabel": {
           "align": "left"
          },
          "hovermode": "closest",
          "mapbox": {
           "style": "light"
          },
          "paper_bgcolor": "white",
          "plot_bgcolor": "#E5ECF6",
          "polar": {
           "angularaxis": {
            "gridcolor": "white",
            "linecolor": "white",
            "ticks": ""
           },
           "bgcolor": "#E5ECF6",
           "radialaxis": {
            "gridcolor": "white",
            "linecolor": "white",
            "ticks": ""
           }
          },
          "scene": {
           "xaxis": {
            "backgroundcolor": "#E5ECF6",
            "gridcolor": "white",
            "gridwidth": 2,
            "linecolor": "white",
            "showbackground": true,
            "ticks": "",
            "zerolinecolor": "white"
           },
           "yaxis": {
            "backgroundcolor": "#E5ECF6",
            "gridcolor": "white",
            "gridwidth": 2,
            "linecolor": "white",
            "showbackground": true,
            "ticks": "",
            "zerolinecolor": "white"
           },
           "zaxis": {
            "backgroundcolor": "#E5ECF6",
            "gridcolor": "white",
            "gridwidth": 2,
            "linecolor": "white",
            "showbackground": true,
            "ticks": "",
            "zerolinecolor": "white"
           }
          },
          "shapedefaults": {
           "line": {
            "color": "#2a3f5f"
           }
          },
          "ternary": {
           "aaxis": {
            "gridcolor": "white",
            "linecolor": "white",
            "ticks": ""
           },
           "baxis": {
            "gridcolor": "white",
            "linecolor": "white",
            "ticks": ""
           },
           "bgcolor": "#E5ECF6",
           "caxis": {
            "gridcolor": "white",
            "linecolor": "white",
            "ticks": ""
           }
          },
          "title": {
           "x": 0.05
          },
          "xaxis": {
           "automargin": true,
           "gridcolor": "white",
           "linecolor": "white",
           "ticks": "",
           "title": {
            "standoff": 15
           },
           "zerolinecolor": "white",
           "zerolinewidth": 2
          },
          "yaxis": {
           "automargin": true,
           "gridcolor": "white",
           "linecolor": "white",
           "ticks": "",
           "title": {
            "standoff": 15
           },
           "zerolinecolor": "white",
           "zerolinewidth": 2
          }
         }
        },
        "xaxis": {
         "anchor": "y",
         "domain": [
          0,
          1
         ],
         "title": {
          "text": "temp"
         }
        },
        "yaxis": {
         "anchor": "x",
         "domain": [
          0,
          1
         ],
         "title": {
          "text": "atemp"
         }
        }
       }
      }
     },
     "metadata": {},
     "output_type": "display_data"
    }
   ],
   "source": [
    "fig=px.scatter(df,x=\"temp\",y=\"atemp\",color=\"cnt\")\n",
    "fig.show()"
   ]
  },
  {
   "cell_type": "code",
   "execution_count": 9,
   "id": "0c231abd-09e5-4851-a44f-9e6356d818ff",
   "metadata": {},
   "outputs": [
    {
     "data": {
      "application/vnd.plotly.v1+json": {
       "config": {
        "plotlyServerURL": "https://plot.ly"
       },
       "data": [
        {
         "hovertemplate": "hum=%{x}<br>windspeed=%{y}<br>cnt=%{z}<br>weathersit=%{marker.color}<extra></extra>",
         "legendgroup": "",
         "marker": {
          "color": {
           "bdata": "AgIBAQEBAgIBAQIBAQECAQICAgIBAQEBAgMBAgEBAgICAQICAQEBAgEBAQEBAQEBAQEBAgEBAgIBAQIBAQECAgIBAQIDAgEBAQICAQEBAQIBAgIBAQIBAQIDAgIBAQIBAQICAgICAgEBAwEBAgEBAgICAQECAgEBAgICAgEBAQEBAQEBAgICAQICAgEBAQICAQEBAQEBAQIBAQECAQEBAgEBAQEBAQIBAQICAgECAQEBAgEBAQEBAgIBAQECAQEBAQEBAQEBAQEBAgEBAQEBAQEBAQEBAQICAQIBAQEBAQECAgEBAQECAQEBAQECAQIBAQEBAQIBAQIDAwMCAQEBAQECAgIBAgICAgICAgICAgEBAgICAQEBAQEBAQIDAgIBAQECAwEBAQEBAQICAgMBAQEBAQIBAQEBAQIBAQEBAgMCAQECAwMCAQEBAQECAQEBAQECAwMBAQEBAQECAgICAQECAgIBAQEBAgEBAQEBAQECAQEBAQIBAgIBAQEBAgEBAgICAgEBAgIBAQEBAQIBAgIBAQIBAgMBAQIBAgEBAgEBAQECAQEBAQIBAgIBAQEBAQIBAQEBAQECAgIBAQIBAgICAQEBAQICAgEBAQEBAQEBAQEBAQEBAQECAQEBAwIBAQIBAgECAgECAQICAgICAQEBAQICAQEBAQECAgIBAQEBAQECAQIBAQECAQEBAQECAgEBAQEBAgEBAQEBAQEBAQEBAQEBAQEBAQEBAgIBAQICAQEBAQECAwIBAQEBAQEBAQEBAQIBAQICAgECAgEBAQEBAQECAgEBAQICAgEBAQEBAgIBAQECAQIBAQEBAQEBAQICAQEBAQEBAQECAgEBAgMCAgEBAgICAQEBAQECAQECAgEBAQEBAgICAgMCAgIBAgEBAQIBAQEBAQIBAgEBAQICAQEBAQEBAgEBAQICAQEBAQICAgICAgEBAQICAQECAgEBAgIDAgICAQI=",
           "dtype": "i1"
          },
          "coloraxis": "coloraxis",
          "symbol": "circle"
         },
         "mode": "markers",
         "name": "",
         "scene": "scene",
         "showlegend": false,
         "type": "scatter3d",
         "x": {
          "bdata": "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",
          "dtype": "f8"
         },
         "y": {
          "bdata": "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",
          "dtype": "f8"
         },
         "z": {
          "bdata": "2QMhA0UFGgZABkYG5gW/AzYDKQXvBIoEfgWNBeAEtAToA6sCcgaHBwcG1QPaA4gFwQf6Aa8BjwRKBEgE3QVQBfYFDgasBu0DVwawBvoFRQYCBtIGwAU1BnkHFwdDCKsJbwtjBhQHUwSqBX0HDwe1BbEHYgmmBTsHVgiVBpgHHQhdAlAHVQhjB28CuQdUCHEJ/gcICJAIuAqnDC0MpwkdCI8KSQhJB6IIwAmdBuwHeQkABpUGswjMCLEMKwwDB/gKRQy/BZcJTwsUDfIHcgjDDDYMGwOgDmUNhAxoD10QkwbED18Q6Q8wESAP2g/zEcAUFw0xEWMRSQpREQASahLtEAoRwxJWEAATCRBRDckRdg8bEA8P3xE1E60WNBKyEIwRchNFEkcSlhK0EgIQjg+GD2gTwBTeFCoTxBHhEjERSw/qEWYTbBGcExsTPBS3DuwS/xOIEqoP4xKbEbYSfxNSFLkUZBIoEmkUixXyFP8TKRKbFzkSFRLwEcgP2BQRE/YPohD2ENwTohUjF7YUahG9EewQyA47DdUMFg4AD+4RMBImEQYPexHOEKoQ7RL2DeARAhPGEMkO5hD6EawSuBIpEzYQ7A7yEHUSVhLdDjkQRxQhD5YSBxcKFNYNNRJbBO4QGhJUFMIT+xN3EoQRTBMXDZYKzAcyB9gN4RS2E2kSmxKxEksOmBKfEbIQuxE5DgARuxJbCS8VkhMWEhgQQw/nElIUfQlmC/INaBHaEp0SeRMhFYcV/RPTEXAJYQs8DmEUsRPaEYwSeAljENAQ1BAdEVsQTxI2D2MKow5zAgMNVQ7kD1oQhg/OD1YPQQ7DD20QDRB1CygN4w+FDoYRYxAZB+0LQA1PDsANzQpHBgYK1wXoCvwL/wsbD2ILHQ6PDmQPHg6dDeMOIgrBAvoMJA52DLcK7gzDDZwOfQ75DbMKfwlLDaYOZAr8C6EI8wPyAiUFigT+CHcJtwu1CfYInwe8CEAJyAwCEKkRYQ1ICQ4OgQgBEI4MvQkHCfoIdwswDdwMWwwVBbkHgAnzEK4Q6w+ADbcPqwwoDp0R4xGxDjcQEAuDC8gOFxHyCvYO9w55CPkFXg1SD0kQvQs6EN4QgQo5DMEOpRLGE58NrAo9DeIQCxEqB34TegziD18NBQ10DzQTBhXZERYQLxOyFNcWqBgwGBoRnB4EFwkYzRdWGNcaqiAsDYQTthXuE0IW9RdTFVsYmRcwF3QaJBk5GTwZyRoxFNEVHhf+EiEV/hgkHdwb4hgjGg8RpRl6HOAZAwSODAEWNBiiE1kYfBCgGMQVbBYZGBUZmBjjGtcYgRhgFm0SrBl2GwUd5hcbC/sTAB3YHNcdZiDZGwcRuReMFHIaThqIGb8ZmxdvFscaqhwfELgf2R1WG1kbjxtGHTgeSh3GGQgabBP9HMMc8R0WHkIb6xOpGkMYERe/FiId6xp7GhIdpxzfGlcVNxabFVMYBBrrHGEYPxjoEkASqRmSGGAcFh1LHTkbjxeuGoIaURa/Ge4WaxHyHDYbqB3tH80a+BodGsUZwRswHJwdXRwHHKgaWBVlG2kcbh12HJoWmxiQGeMagBqzHLUd7Bu5HsURghleG88cVR6eHaUXhxQFG4AbER4hHrYc/BeyFpIX0BrIGzsYUB1YFyMgZR1XHr4efB5JHwoipRzVGukPpx0oHucfyyDjHgwdch01HuEc9xxrIekaehofEpQdoBzcHx0ftg1mFfgYCx6SHXIcxRvvGfMWbh0lHVUdMBWaH6gakhsqHQ0evxwUHaweaxEWAEgEvhViF9cWEhTzE4sUNharE8MUaBeIGcQafRj+D3cVRRVCFv0VPRJ7FQIWGhR5CUYP5Qh4Cd8Tdw+MFMsUJBZHFCkSWhjOGWEW/xSQE84VnAwyFH0VxxScFesVtxPKDukRtRWTFCAQJw7VBvsGmAP1A7kBQggXDD0FBAepCg==",
          "dtype": "i2"
         }
        }
       ],
       "layout": {
        "coloraxis": {
         "colorbar": {
          "title": {
           "text": "weathersit"
          }
         },
         "colorscale": [
          [
           0,
           "#0d0887"
          ],
          [
           0.1111111111111111,
           "#46039f"
          ],
          [
           0.2222222222222222,
           "#7201a8"
          ],
          [
           0.3333333333333333,
           "#9c179e"
          ],
          [
           0.4444444444444444,
           "#bd3786"
          ],
          [
           0.5555555555555556,
           "#d8576b"
          ],
          [
           0.6666666666666666,
           "#ed7953"
          ],
          [
           0.7777777777777778,
           "#fb9f3a"
          ],
          [
           0.8888888888888888,
           "#fdca26"
          ],
          [
           1,
           "#f0f921"
          ]
         ]
        },
        "legend": {
         "tracegroupgap": 0
        },
        "margin": {
         "t": 60
        },
        "scene": {
         "domain": {
          "x": [
           0,
           1
          ],
          "y": [
           0,
           1
          ]
         },
         "xaxis": {
          "title": {
           "text": "hum"
          }
         },
         "yaxis": {
          "title": {
           "text": "windspeed"
          }
         },
         "zaxis": {
          "title": {
           "text": "cnt"
          }
         }
        },
        "template": {
         "data": {
          "bar": [
           {
            "error_x": {
             "color": "#2a3f5f"
            },
            "error_y": {
             "color": "#2a3f5f"
            },
            "marker": {
             "line": {
              "color": "#E5ECF6",
              "width": 0.5
             },
             "pattern": {
              "fillmode": "overlay",
              "size": 10,
              "solidity": 0.2
             }
            },
            "type": "bar"
           }
          ],
          "barpolar": [
           {
            "marker": {
             "line": {
              "color": "#E5ECF6",
              "width": 0.5
             },
             "pattern": {
              "fillmode": "overlay",
              "size": 10,
              "solidity": 0.2
             }
            },
            "type": "barpolar"
           }
          ],
          "carpet": [
           {
            "aaxis": {
             "endlinecolor": "#2a3f5f",
             "gridcolor": "white",
             "linecolor": "white",
             "minorgridcolor": "white",
             "startlinecolor": "#2a3f5f"
            },
            "baxis": {
             "endlinecolor": "#2a3f5f",
             "gridcolor": "white",
             "linecolor": "white",
             "minorgridcolor": "white",
             "startlinecolor": "#2a3f5f"
            },
            "type": "carpet"
           }
          ],
          "choropleth": [
           {
            "colorbar": {
             "outlinewidth": 0,
             "ticks": ""
            },
            "type": "choropleth"
           }
          ],
          "contour": [
           {
            "colorbar": {
             "outlinewidth": 0,
             "ticks": ""
            },
            "colorscale": [
             [
              0,
              "#0d0887"
             ],
             [
              0.1111111111111111,
              "#46039f"
             ],
             [
              0.2222222222222222,
              "#7201a8"
             ],
             [
              0.3333333333333333,
              "#9c179e"
             ],
             [
              0.4444444444444444,
              "#bd3786"
             ],
             [
              0.5555555555555556,
              "#d8576b"
             ],
             [
              0.6666666666666666,
              "#ed7953"
             ],
             [
              0.7777777777777778,
              "#fb9f3a"
             ],
             [
              0.8888888888888888,
              "#fdca26"
             ],
             [
              1,
              "#f0f921"
             ]
            ],
            "type": "contour"
           }
          ],
          "contourcarpet": [
           {
            "colorbar": {
             "outlinewidth": 0,
             "ticks": ""
            },
            "type": "contourcarpet"
           }
          ],
          "heatmap": [
           {
            "colorbar": {
             "outlinewidth": 0,
             "ticks": ""
            },
            "colorscale": [
             [
              0,
              "#0d0887"
             ],
             [
              0.1111111111111111,
              "#46039f"
             ],
             [
              0.2222222222222222,
              "#7201a8"
             ],
             [
              0.3333333333333333,
              "#9c179e"
             ],
             [
              0.4444444444444444,
              "#bd3786"
             ],
             [
              0.5555555555555556,
              "#d8576b"
             ],
             [
              0.6666666666666666,
              "#ed7953"
             ],
             [
              0.7777777777777778,
              "#fb9f3a"
             ],
             [
              0.8888888888888888,
              "#fdca26"
             ],
             [
              1,
              "#f0f921"
             ]
            ],
            "type": "heatmap"
           }
          ],
          "histogram": [
           {
            "marker": {
             "pattern": {
              "fillmode": "overlay",
              "size": 10,
              "solidity": 0.2
             }
            },
            "type": "histogram"
           }
          ],
          "histogram2d": [
           {
            "colorbar": {
             "outlinewidth": 0,
             "ticks": ""
            },
            "colorscale": [
             [
              0,
              "#0d0887"
             ],
             [
              0.1111111111111111,
              "#46039f"
             ],
             [
              0.2222222222222222,
              "#7201a8"
             ],
             [
              0.3333333333333333,
              "#9c179e"
             ],
             [
              0.4444444444444444,
              "#bd3786"
             ],
             [
              0.5555555555555556,
              "#d8576b"
             ],
             [
              0.6666666666666666,
              "#ed7953"
             ],
             [
              0.7777777777777778,
              "#fb9f3a"
             ],
             [
              0.8888888888888888,
              "#fdca26"
             ],
             [
              1,
              "#f0f921"
             ]
            ],
            "type": "histogram2d"
           }
          ],
          "histogram2dcontour": [
           {
            "colorbar": {
             "outlinewidth": 0,
             "ticks": ""
            },
            "colorscale": [
             [
              0,
              "#0d0887"
             ],
             [
              0.1111111111111111,
              "#46039f"
             ],
             [
              0.2222222222222222,
              "#7201a8"
             ],
             [
              0.3333333333333333,
              "#9c179e"
             ],
             [
              0.4444444444444444,
              "#bd3786"
             ],
             [
              0.5555555555555556,
              "#d8576b"
             ],
             [
              0.6666666666666666,
              "#ed7953"
             ],
             [
              0.7777777777777778,
              "#fb9f3a"
             ],
             [
              0.8888888888888888,
              "#fdca26"
             ],
             [
              1,
              "#f0f921"
             ]
            ],
            "type": "histogram2dcontour"
           }
          ],
          "mesh3d": [
           {
            "colorbar": {
             "outlinewidth": 0,
             "ticks": ""
            },
            "type": "mesh3d"
           }
          ],
          "parcoords": [
           {
            "line": {
             "colorbar": {
              "outlinewidth": 0,
              "ticks": ""
             }
            },
            "type": "parcoords"
           }
          ],
          "pie": [
           {
            "automargin": true,
            "type": "pie"
           }
          ],
          "scatter": [
           {
            "fillpattern": {
             "fillmode": "overlay",
             "size": 10,
             "solidity": 0.2
            },
            "type": "scatter"
           }
          ],
          "scatter3d": [
           {
            "line": {
             "colorbar": {
              "outlinewidth": 0,
              "ticks": ""
             }
            },
            "marker": {
             "colorbar": {
              "outlinewidth": 0,
              "ticks": ""
             }
            },
            "type": "scatter3d"
           }
          ],
          "scattercarpet": [
           {
            "marker": {
             "colorbar": {
              "outlinewidth": 0,
              "ticks": ""
             }
            },
            "type": "scattercarpet"
           }
          ],
          "scattergeo": [
           {
            "marker": {
             "colorbar": {
              "outlinewidth": 0,
              "ticks": ""
             }
            },
            "type": "scattergeo"
           }
          ],
          "scattergl": [
           {
            "marker": {
             "colorbar": {
              "outlinewidth": 0,
              "ticks": ""
             }
            },
            "type": "scattergl"
           }
          ],
          "scattermap": [
           {
            "marker": {
             "colorbar": {
              "outlinewidth": 0,
              "ticks": ""
             }
            },
            "type": "scattermap"
           }
          ],
          "scattermapbox": [
           {
            "marker": {
             "colorbar": {
              "outlinewidth": 0,
              "ticks": ""
             }
            },
            "type": "scattermapbox"
           }
          ],
          "scatterpolar": [
           {
            "marker": {
             "colorbar": {
              "outlinewidth": 0,
              "ticks": ""
             }
            },
            "type": "scatterpolar"
           }
          ],
          "scatterpolargl": [
           {
            "marker": {
             "colorbar": {
              "outlinewidth": 0,
              "ticks": ""
             }
            },
            "type": "scatterpolargl"
           }
          ],
          "scatterternary": [
           {
            "marker": {
             "colorbar": {
              "outlinewidth": 0,
              "ticks": ""
             }
            },
            "type": "scatterternary"
           }
          ],
          "surface": [
           {
            "colorbar": {
             "outlinewidth": 0,
             "ticks": ""
            },
            "colorscale": [
             [
              0,
              "#0d0887"
             ],
             [
              0.1111111111111111,
              "#46039f"
             ],
             [
              0.2222222222222222,
              "#7201a8"
             ],
             [
              0.3333333333333333,
              "#9c179e"
             ],
             [
              0.4444444444444444,
              "#bd3786"
             ],
             [
              0.5555555555555556,
              "#d8576b"
             ],
             [
              0.6666666666666666,
              "#ed7953"
             ],
             [
              0.7777777777777778,
              "#fb9f3a"
             ],
             [
              0.8888888888888888,
              "#fdca26"
             ],
             [
              1,
              "#f0f921"
             ]
            ],
            "type": "surface"
           }
          ],
          "table": [
           {
            "cells": {
             "fill": {
              "color": "#EBF0F8"
             },
             "line": {
              "color": "white"
             }
            },
            "header": {
             "fill": {
              "color": "#C8D4E3"
             },
             "line": {
              "color": "white"
             }
            },
            "type": "table"
           }
          ]
         },
         "layout": {
          "annotationdefaults": {
           "arrowcolor": "#2a3f5f",
           "arrowhead": 0,
           "arrowwidth": 1
          },
          "autotypenumbers": "strict",
          "coloraxis": {
           "colorbar": {
            "outlinewidth": 0,
            "ticks": ""
           }
          },
          "colorscale": {
           "diverging": [
            [
             0,
             "#8e0152"
            ],
            [
             0.1,
             "#c51b7d"
            ],
            [
             0.2,
             "#de77ae"
            ],
            [
             0.3,
             "#f1b6da"
            ],
            [
             0.4,
             "#fde0ef"
            ],
            [
             0.5,
             "#f7f7f7"
            ],
            [
             0.6,
             "#e6f5d0"
            ],
            [
             0.7,
             "#b8e186"
            ],
            [
             0.8,
             "#7fbc41"
            ],
            [
             0.9,
             "#4d9221"
            ],
            [
             1,
             "#276419"
            ]
           ],
           "sequential": [
            [
             0,
             "#0d0887"
            ],
            [
             0.1111111111111111,
             "#46039f"
            ],
            [
             0.2222222222222222,
             "#7201a8"
            ],
            [
             0.3333333333333333,
             "#9c179e"
            ],
            [
             0.4444444444444444,
             "#bd3786"
            ],
            [
             0.5555555555555556,
             "#d8576b"
            ],
            [
             0.6666666666666666,
             "#ed7953"
            ],
            [
             0.7777777777777778,
             "#fb9f3a"
            ],
            [
             0.8888888888888888,
             "#fdca26"
            ],
            [
             1,
             "#f0f921"
            ]
           ],
           "sequentialminus": [
            [
             0,
             "#0d0887"
            ],
            [
             0.1111111111111111,
             "#46039f"
            ],
            [
             0.2222222222222222,
             "#7201a8"
            ],
            [
             0.3333333333333333,
             "#9c179e"
            ],
            [
             0.4444444444444444,
             "#bd3786"
            ],
            [
             0.5555555555555556,
             "#d8576b"
            ],
            [
             0.6666666666666666,
             "#ed7953"
            ],
            [
             0.7777777777777778,
             "#fb9f3a"
            ],
            [
             0.8888888888888888,
             "#fdca26"
            ],
            [
             1,
             "#f0f921"
            ]
           ]
          },
          "colorway": [
           "#636efa",
           "#EF553B",
           "#00cc96",
           "#ab63fa",
           "#FFA15A",
           "#19d3f3",
           "#FF6692",
           "#B6E880",
           "#FF97FF",
           "#FECB52"
          ],
          "font": {
           "color": "#2a3f5f"
          },
          "geo": {
           "bgcolor": "white",
           "lakecolor": "white",
           "landcolor": "#E5ECF6",
           "showlakes": true,
           "showland": true,
           "subunitcolor": "white"
          },
          "hoverlabel": {
           "align": "left"
          },
          "hovermode": "closest",
          "mapbox": {
           "style": "light"
          },
          "paper_bgcolor": "white",
          "plot_bgcolor": "#E5ECF6",
          "polar": {
           "angularaxis": {
            "gridcolor": "white",
            "linecolor": "white",
            "ticks": ""
           },
           "bgcolor": "#E5ECF6",
           "radialaxis": {
            "gridcolor": "white",
            "linecolor": "white",
            "ticks": ""
           }
          },
          "scene": {
           "xaxis": {
            "backgroundcolor": "#E5ECF6",
            "gridcolor": "white",
            "gridwidth": 2,
            "linecolor": "white",
            "showbackground": true,
            "ticks": "",
            "zerolinecolor": "white"
           },
           "yaxis": {
            "backgroundcolor": "#E5ECF6",
            "gridcolor": "white",
            "gridwidth": 2,
            "linecolor": "white",
            "showbackground": true,
            "ticks": "",
            "zerolinecolor": "white"
           },
           "zaxis": {
            "backgroundcolor": "#E5ECF6",
            "gridcolor": "white",
            "gridwidth": 2,
            "linecolor": "white",
            "showbackground": true,
            "ticks": "",
            "zerolinecolor": "white"
           }
          },
          "shapedefaults": {
           "line": {
            "color": "#2a3f5f"
           }
          },
          "ternary": {
           "aaxis": {
            "gridcolor": "white",
            "linecolor": "white",
            "ticks": ""
           },
           "baxis": {
            "gridcolor": "white",
            "linecolor": "white",
            "ticks": ""
           },
           "bgcolor": "#E5ECF6",
           "caxis": {
            "gridcolor": "white",
            "linecolor": "white",
            "ticks": ""
           }
          },
          "title": {
           "x": 0.05
          },
          "xaxis": {
           "automargin": true,
           "gridcolor": "white",
           "linecolor": "white",
           "ticks": "",
           "title": {
            "standoff": 15
           },
           "zerolinecolor": "white",
           "zerolinewidth": 2
          },
          "yaxis": {
           "automargin": true,
           "gridcolor": "white",
           "linecolor": "white",
           "ticks": "",
           "title": {
            "standoff": 15
           },
           "zerolinecolor": "white",
           "zerolinewidth": 2
          }
         }
        }
       }
      }
     },
     "metadata": {},
     "output_type": "display_data"
    }
   ],
   "source": [
    "fig=px.scatter_3d(df,x=\"hum\",y=\"windspeed\",z=\"cnt\",color=\"weathersit\")\n",
    "fig.show()"
   ]
  },
  {
   "cell_type": "code",
   "execution_count": 10,
   "id": "72ee3319-1dfd-4cd8-8eac-5f9a9e6df4bc",
   "metadata": {},
   "outputs": [
    {
     "data": {
      "image/png": "[encoded data removed]",
      "text/plain": [
       "<Figure size 640x480 with 1 Axes>"
      ]
     },
     "metadata": {},
     "output_type": "display_data"
    }
   ],
   "source": [
    "sns.regplot(df,x=\"weekday\",y=\"registered\")\n",
    "plt.show()"
   ]
  },
  {
   "cell_type": "code",
   "execution_count": 11,
   "id": "52a0ef40-e2ff-4c04-bc4d-89ae70d95f10",
   "metadata": {},
   "outputs": [
    {
     "data": {
      "image/png": "[encoded data removed]",
      "text/plain": [
       "<Figure size 640x480 with 1 Axes>"
      ]
     },
     "metadata": {},
     "output_type": "display_data"
    }
   ],
   "source": [
    "sns.lineplot(df,x=\"season\",y=\"cnt\",hue=\"casual\")\n",
    "plt.legend(bbox_to_anchor=(1.05, 1), loc='upper left')\n",
    "plt.show()"
   ]
  },
  {
   "cell_type": "code",
   "execution_count": 12,
   "id": "d083c54f-7c57-4707-a7e8-00522807e03a",
   "metadata": {},
   "outputs": [],
   "source": [
    "X=df.drop(columns=[\"instant\",\"atemp\",\"dteday\",\"casual\",\"registered\",\"yr\",\"cnt\"],axis=1)#Dropping columns which are target and redundant\n",
    "y=df[\"cnt\"]"
   ]
  },
  {
   "cell_type": "code",
   "execution_count": 13,
   "id": "798ccb1e-eadd-4165-98ea-4472c07baceb",
   "metadata": {},
   "outputs": [
    {
     "data": {
      "text/html": [
       "<div>\n",
       "<style scoped>\n",
       "    .dataframe tbody tr th:only-of-type {\n",
       "        vertical-align: middle;\n",
       "    }\n",
       "\n",
       "    .dataframe tbody tr th {\n",
       "        vertical-align: top;\n",
       "    }\n",
       "\n",
       "    .dataframe thead th {\n",
       "        text-align: right;\n",
       "    }\n",
       "</style>\n",
       "<table border=\"1\" class=\"dataframe\">\n",
       "  <thead>\n",
       "    <tr style=\"text-align: right;\">\n",
       "      <th></th>\n",
       "      <th>season</th>\n",
       "      <th>mnth</th>\n",
       "      <th>holiday</th>\n",
       "      <th>weekday</th>\n",
       "      <th>workingday</th>\n",
       "      <th>weathersit</th>\n",
       "      <th>temp</th>\n",
       "      <th>hum</th>\n",
       "      <th>windspeed</th>\n",
       "    </tr>\n",
       "  </thead>\n",
       "  <tbody>\n",
       "    <tr>\n",
       "      <th>0</th>\n",
       "      <td>1</td>\n",
       "      <td>1</td>\n",
       "      <td>0</td>\n",
       "      <td>6</td>\n",
       "      <td>0</td>\n",
       "      <td>2</td>\n",
       "      <td>0.344167</td>\n",
       "      <td>0.805833</td>\n",
       "      <td>0.160446</td>\n",
       "    </tr>\n",
       "    <tr>\n",
       "      <th>1</th>\n",
       "      <td>1</td>\n",
       "      <td>1</td>\n",
       "      <td>0</td>\n",
       "      <td>0</td>\n",
       "      <td>0</td>\n",
       "      <td>2</td>\n",
       "      <td>0.363478</td>\n",
       "      <td>0.696087</td>\n",
       "      <td>0.248539</td>\n",
       "    </tr>\n",
       "    <tr>\n",
       "      <th>2</th>\n",
       "      <td>1</td>\n",
       "      <td>1</td>\n",
       "      <td>0</td>\n",
       "      <td>1</td>\n",
       "      <td>1</td>\n",
       "      <td>1</td>\n",
       "      <td>0.196364</td>\n",
       "      <td>0.437273</td>\n",
       "      <td>0.248309</td>\n",
       "    </tr>\n",
       "    <tr>\n",
       "      <th>3</th>\n",
       "      <td>1</td>\n",
       "      <td>1</td>\n",
       "      <td>0</td>\n",
       "      <td>2</td>\n",
       "      <td>1</td>\n",
       "      <td>1</td>\n",
       "      <td>0.200000</td>\n",
       "      <td>0.590435</td>\n",
       "      <td>0.160296</td>\n",
       "    </tr>\n",
       "    <tr>\n",
       "      <th>4</th>\n",
       "      <td>1</td>\n",
       "      <td>1</td>\n",
       "      <td>0</td>\n",
       "      <td>3</td>\n",
       "      <td>1</td>\n",
       "      <td>1</td>\n",
       "      <td>0.226957</td>\n",
       "      <td>0.436957</td>\n",
       "      <td>0.186900</td>\n",
       "    </tr>\n",
       "  </tbody>\n",
       "</table>\n",
       "</div>"
      ],
      "text/plain": [
       "   season  mnth  holiday  weekday  workingday  weathersit      temp       hum  \\\n",
       "0       1     1        0        6           0           2  0.344167  0.805833   \n",
       "1       1     1        0        0           0           2  0.363478  0.696087   \n",
       "2       1     1        0        1           1           1  0.196364  0.437273   \n",
       "3       1     1        0        2           1           1  0.200000  0.590435   \n",
       "4       1     1        0        3           1           1  0.226957  0.436957   \n",
       "\n",
       "   windspeed  \n",
       "0   0.160446  \n",
       "1   0.248539  \n",
       "2   0.248309  \n",
       "3   0.160296  \n",
       "4   0.186900  "
      ]
     },
     "execution_count": 13,
     "metadata": {},
     "output_type": "execute_result"
    }
   ],
   "source": [
    "X.head()"
   ]
  },
  {
   "cell_type": "code",
   "execution_count": 14,
   "id": "d5d6a93b-45be-45ac-b036-3d82613ad599",
   "metadata": {},
   "outputs": [
    {
     "data": {
      "text/html": [
       "<div>\n",
       "<style scoped>\n",
       "    .dataframe tbody tr th:only-of-type {\n",
       "        vertical-align: middle;\n",
       "    }\n",
       "\n",
       "    .dataframe tbody tr th {\n",
       "        vertical-align: top;\n",
       "    }\n",
       "\n",
       "    .dataframe thead th {\n",
       "        text-align: right;\n",
       "    }\n",
       "</style>\n",
       "<table border=\"1\" class=\"dataframe\">\n",
       "  <thead>\n",
       "    <tr style=\"text-align: right;\">\n",
       "      <th></th>\n",
       "      <th>season</th>\n",
       "      <th>mnth</th>\n",
       "      <th>holiday</th>\n",
       "      <th>weekday</th>\n",
       "      <th>workingday</th>\n",
       "      <th>weathersit</th>\n",
       "      <th>temp</th>\n",
       "      <th>hum</th>\n",
       "      <th>windspeed</th>\n",
       "    </tr>\n",
       "  </thead>\n",
       "  <tbody>\n",
       "    <tr>\n",
       "      <th>682</th>\n",
       "      <td>4</td>\n",
       "      <td>11</td>\n",
       "      <td>0</td>\n",
       "      <td>2</td>\n",
       "      <td>1</td>\n",
       "      <td>2</td>\n",
       "      <td>0.343333</td>\n",
       "      <td>0.662917</td>\n",
       "      <td>0.342046</td>\n",
       "    </tr>\n",
       "    <tr>\n",
       "      <th>250</th>\n",
       "      <td>3</td>\n",
       "      <td>9</td>\n",
       "      <td>0</td>\n",
       "      <td>4</td>\n",
       "      <td>1</td>\n",
       "      <td>3</td>\n",
       "      <td>0.633913</td>\n",
       "      <td>0.939565</td>\n",
       "      <td>0.192748</td>\n",
       "    </tr>\n",
       "    <tr>\n",
       "      <th>336</th>\n",
       "      <td>4</td>\n",
       "      <td>12</td>\n",
       "      <td>0</td>\n",
       "      <td>6</td>\n",
       "      <td>0</td>\n",
       "      <td>1</td>\n",
       "      <td>0.299167</td>\n",
       "      <td>0.612917</td>\n",
       "      <td>0.095783</td>\n",
       "    </tr>\n",
       "    <tr>\n",
       "      <th>260</th>\n",
       "      <td>3</td>\n",
       "      <td>9</td>\n",
       "      <td>0</td>\n",
       "      <td>0</td>\n",
       "      <td>0</td>\n",
       "      <td>1</td>\n",
       "      <td>0.507500</td>\n",
       "      <td>0.695000</td>\n",
       "      <td>0.178483</td>\n",
       "    </tr>\n",
       "    <tr>\n",
       "      <th>543</th>\n",
       "      <td>3</td>\n",
       "      <td>6</td>\n",
       "      <td>0</td>\n",
       "      <td>3</td>\n",
       "      <td>1</td>\n",
       "      <td>1</td>\n",
       "      <td>0.697500</td>\n",
       "      <td>0.360000</td>\n",
       "      <td>0.271775</td>\n",
       "    </tr>\n",
       "    <tr>\n",
       "      <th>...</th>\n",
       "      <td>...</td>\n",
       "      <td>...</td>\n",
       "      <td>...</td>\n",
       "      <td>...</td>\n",
       "      <td>...</td>\n",
       "      <td>...</td>\n",
       "      <td>...</td>\n",
       "      <td>...</td>\n",
       "      <td>...</td>\n",
       "    </tr>\n",
       "    <tr>\n",
       "      <th>71</th>\n",
       "      <td>1</td>\n",
       "      <td>3</td>\n",
       "      <td>0</td>\n",
       "      <td>0</td>\n",
       "      <td>0</td>\n",
       "      <td>1</td>\n",
       "      <td>0.384348</td>\n",
       "      <td>0.527391</td>\n",
       "      <td>0.270604</td>\n",
       "    </tr>\n",
       "    <tr>\n",
       "      <th>106</th>\n",
       "      <td>2</td>\n",
       "      <td>4</td>\n",
       "      <td>0</td>\n",
       "      <td>0</td>\n",
       "      <td>0</td>\n",
       "      <td>1</td>\n",
       "      <td>0.456667</td>\n",
       "      <td>0.479583</td>\n",
       "      <td>0.303496</td>\n",
       "    </tr>\n",
       "    <tr>\n",
       "      <th>270</th>\n",
       "      <td>4</td>\n",
       "      <td>9</td>\n",
       "      <td>0</td>\n",
       "      <td>3</td>\n",
       "      <td>1</td>\n",
       "      <td>2</td>\n",
       "      <td>0.635000</td>\n",
       "      <td>0.848750</td>\n",
       "      <td>0.148629</td>\n",
       "    </tr>\n",
       "    <tr>\n",
       "      <th>435</th>\n",
       "      <td>1</td>\n",
       "      <td>3</td>\n",
       "      <td>0</td>\n",
       "      <td>0</td>\n",
       "      <td>0</td>\n",
       "      <td>1</td>\n",
       "      <td>0.361739</td>\n",
       "      <td>0.476957</td>\n",
       "      <td>0.222587</td>\n",
       "    </tr>\n",
       "    <tr>\n",
       "      <th>102</th>\n",
       "      <td>2</td>\n",
       "      <td>4</td>\n",
       "      <td>0</td>\n",
       "      <td>3</td>\n",
       "      <td>1</td>\n",
       "      <td>2</td>\n",
       "      <td>0.412500</td>\n",
       "      <td>0.819167</td>\n",
       "      <td>0.250617</td>\n",
       "    </tr>\n",
       "  </tbody>\n",
       "</table>\n",
       "<p>584 rows × 9 columns</p>\n",
       "</div>"
      ],
      "text/plain": [
       "     season  mnth  holiday  weekday  workingday  weathersit      temp  \\\n",
       "682       4    11        0        2           1           2  0.343333   \n",
       "250       3     9        0        4           1           3  0.633913   \n",
       "336       4    12        0        6           0           1  0.299167   \n",
       "260       3     9        0        0           0           1  0.507500   \n",
       "543       3     6        0        3           1           1  0.697500   \n",
       "..      ...   ...      ...      ...         ...         ...       ...   \n",
       "71        1     3        0        0           0           1  0.384348   \n",
       "106       2     4        0        0           0           1  0.456667   \n",
       "270       4     9        0        3           1           2  0.635000   \n",
       "435       1     3        0        0           0           1  0.361739   \n",
       "102       2     4        0        3           1           2  0.412500   \n",
       "\n",
       "          hum  windspeed  \n",
       "682  0.662917   0.342046  \n",
       "250  0.939565   0.192748  \n",
       "336  0.612917   0.095783  \n",
       "260  0.695000   0.178483  \n",
       "543  0.360000   0.271775  \n",
       "..        ...        ...  \n",
       "71   0.527391   0.270604  \n",
       "106  0.479583   0.303496  \n",
       "270  0.848750   0.148629  \n",
       "435  0.476957   0.222587  \n",
       "102  0.819167   0.250617  \n",
       "\n",
       "[584 rows x 9 columns]"
      ]
     },
     "execution_count": 14,
     "metadata": {},
     "output_type": "execute_result"
    }
   ],
   "source": [
    "from sklearn.model_selection import train_test_split\n",
    "X_train,X_test,y_train,y_test=train_test_split(X,y,test_size=0.2,random_state=42)\n",
    "X_train"
   ]
  },
  {
   "cell_type": "code",
   "execution_count": 15,
   "id": "5213ff25-8f66-427f-9860-61599db3f45f",
   "metadata": {},
   "outputs": [],
   "source": [
    "from sklearn.linear_model import LinearRegression\n",
    "from sklearn.model_selection import cross_val_score\n",
    "regression=LinearRegression()"
   ]
  },
  {
   "cell_type": "code",
   "execution_count": 16,
   "id": "4b6c27a8-e74c-4494-b2fc-ac4b26c0d2dc",
   "metadata": {},
   "outputs": [
    {
     "data": {
      "text/plain": [
       "array([-1985838.21452527, -1639311.17396317, -1835614.56390632,\n",
       "       -1867995.73692014])"
      ]
     },
     "execution_count": 16,
     "metadata": {},
     "output_type": "execute_result"
    }
   ],
   "source": [
    "cross_val_score(regression,X_train,y_train,scoring=\"neg_mean_squared_error\",cv=4)#Shows score of k-cross validation on training dataset"
   ]
  },
  {
   "cell_type": "code",
   "execution_count": 17,
   "id": "b4342b1f-e39e-49a4-bdaa-9d246ec11be7",
   "metadata": {
    "scrolled": true
   },
   "outputs": [
    {
     "data": {
      "text/plain": [
       "count     584.000000\n",
       "mean     4560.977740\n",
       "std      1916.243513\n",
       "min       431.000000\n",
       "25%      3290.250000\n",
       "50%      4577.500000\n",
       "75%      6031.750000\n",
       "max      8714.000000\n",
       "Name: cnt, dtype: float64"
      ]
     },
     "execution_count": 17,
     "metadata": {},
     "output_type": "execute_result"
    }
   ],
   "source": [
    "y_train.describe()"
   ]
  },
  {
   "cell_type": "code",
   "execution_count": 18,
   "id": "a70e7f5e-45cd-4ba7-b738-34eba1a43e63",
   "metadata": {},
   "outputs": [],
   "source": [
    "regression.fit(X,y)#fitting model\n",
    "reg_predict=regression.predict(X_test)"
   ]
  },
  {
   "cell_type": "code",
   "execution_count": 19,
   "id": "0816d768-6df2-4930-8220-ec137dc480b0",
   "metadata": {},
   "outputs": [
    {
     "data": {
      "text/plain": [
       "array([4978.19491831, 2628.51288824, 4042.35779818, 3360.70270431,\n",
       "       5630.40142455, 6332.24463264, 1944.29802944, 2894.4950484 ,\n",
       "       6584.60859478, 5289.16906424, 2019.84291363, 3205.77196266,\n",
       "       5073.88798702, 4444.51361178, 3624.97824655, 3212.96165741,\n",
       "       3527.81862813, 6446.68544372, 7162.30543542, 1857.78523611,\n",
       "       6432.85283132, 7403.50096266, 4122.59944029, 2377.78141133,\n",
       "       2252.78493034, 5786.13586893, 2680.87389974, 5851.25555454,\n",
       "       3070.23787391, 4606.58840488, 4217.69098381, 5000.4733611 ,\n",
       "       5156.67610928, 5424.82736571, 4481.32692601, 3650.85994128,\n",
       "       6140.3672848 , 5076.54612412, 3777.48134981, 1910.63063297,\n",
       "       5000.60963852, 3090.65463235, 6245.77388297, 4700.6640953 ,\n",
       "       6263.36326219, 2839.05675712, 6128.35243287, 4096.07647329,\n",
       "       4911.30598442, 2849.69716241, 4252.672685  , 3762.81297669,\n",
       "       3040.30639796, 7194.31209462, 5993.27792288, 5312.45569163,\n",
       "       5280.96244611, 3506.48296148, 4732.03321402, 5955.60007465,\n",
       "       4161.36647946, 5740.41171081, 2739.19629506, 6134.6179778 ,\n",
       "       5080.65347075, 6456.33935117, 6387.4164802 , 6826.53941963,\n",
       "       2518.35488775, 5564.72243728, 4020.90310566, 3596.55869364,\n",
       "       4080.99157454, 4994.73673524, 3838.4255324 , 3539.48757614,\n",
       "       4288.64052938, 5129.80624431, 2261.66278822, 6277.63225832,\n",
       "       1486.8326106 , 3850.62817052, 4767.00525923, 2838.12253293,\n",
       "       4736.14113002, 3527.87714548, 5454.44855953, 4372.09958271,\n",
       "       4514.09867698, 4024.82808099, 1880.01909121, 6206.35782248,\n",
       "       4837.20699939, 4042.47590451, 2324.98788075, 2333.81852699,\n",
       "       5831.71023076, 2010.86936132, 3804.00052935, 6420.00020764,\n",
       "       6647.14024192, 5730.85594222, 5185.63525551, 3853.68219888,\n",
       "       3067.1600347 , 4443.26064686, 2060.40078781, 3536.20332697,\n",
       "       6363.03585502, 1926.3501639 , 6705.82897918, 5224.3496215 ,\n",
       "       4205.81233309, 5652.38430661, 4228.21509864, 4271.2928207 ,\n",
       "       2343.05198857, 3400.15283587, 6149.71528417, 2173.69846267,\n",
       "       5006.41508147, 3646.09356239, 4585.85094912, 2631.51947049,\n",
       "       5188.63211828, 4883.07223367, 6639.39788064, 3892.56619344,\n",
       "       3236.53783231, 5174.27884906, 4168.18883673, 4944.73791692,\n",
       "       4340.3340657 , 4002.17822095, 6224.45117057, 2760.82377146,\n",
       "       4106.1284359 , 4923.1369631 , 2560.37635493, 6651.83536484,\n",
       "       4580.0028099 , 3387.28586747, 3245.10387642, 6703.7849273 ,\n",
       "       5071.67342213, 5672.132205  , 4758.56585404])"
      ]
     },
     "execution_count": 19,
     "metadata": {},
     "output_type": "execute_result"
    }
   ],
   "source": [
    "reg_predict"
   ]
  },
  {
   "cell_type": "code",
   "execution_count": 20,
   "id": "b0b4f43d-dacb-435b-9d4f-2c6360098669",
   "metadata": {},
   "outputs": [
    {
     "data": {
      "image/png": "[encoded data removed]",
      "text/plain": [
       "<Figure size 640x480 with 1 Axes>"
      ]
     },
     "metadata": {},
     "output_type": "display_data"
    }
   ],
   "source": [
    "sns.scatterplot(x=y_test,y=reg_predict)\n",
    "plt.show()"
   ]
  },
  {
   "cell_type": "code",
   "execution_count": 21,
   "id": "95aaa9fd-f817-4d4e-a114-65f2ce110f45",
   "metadata": {},
   "outputs": [
    {
     "name": "stdout",
     "output_type": "stream",
     "text": [
      "MSE : 1760510.8979050838\n",
      "RMSE : 1326.842454063437\n",
      "MAE : 1128.577045505025\n",
      "R²   : 0.1274457185411516\n"
     ]
    }
   ],
   "source": [
    "from sklearn.metrics import mean_squared_error, mean_absolute_error, r2_score\n",
    "import numpy as np\n",
    "mse = mean_squared_error(reg_predict, y_test)\n",
    "rmse = np.sqrt(mse)\n",
    "mae = mean_absolute_error(reg_predict, y_test)\n",
    "r2 = r2_score(reg_predict, y_test)\n",
    "print(\"MSE :\", mse)\n",
    "print(\"RMSE :\", rmse)\n",
    "print(\"MAE :\", mae)\n",
    "print(\"R²   :\", r2)"
   ]
  },
  {
   "cell_type": "code",
   "execution_count": 22,
   "id": "7a890587-55dc-4c9f-a1af-0eafaae24ee0",
   "metadata": {},
   "outputs": [
    {
     "data": {
      "text/html": [
       "<div>\n",
       "<style scoped>\n",
       "    .dataframe tbody tr th:only-of-type {\n",
       "        vertical-align: middle;\n",
       "    }\n",
       "\n",
       "    .dataframe tbody tr th {\n",
       "        vertical-align: top;\n",
       "    }\n",
       "\n",
       "    .dataframe thead th {\n",
       "        text-align: right;\n",
       "    }\n",
       "</style>\n",
       "<table border=\"1\" class=\"dataframe\">\n",
       "  <thead>\n",
       "    <tr style=\"text-align: right;\">\n",
       "      <th></th>\n",
       "      <th>season</th>\n",
       "      <th>mnth</th>\n",
       "      <th>holiday</th>\n",
       "      <th>weekday</th>\n",
       "      <th>workingday</th>\n",
       "      <th>weathersit</th>\n",
       "      <th>temp</th>\n",
       "      <th>hum</th>\n",
       "      <th>windspeed</th>\n",
       "    </tr>\n",
       "  </thead>\n",
       "  <tbody>\n",
       "    <tr>\n",
       "      <th>682</th>\n",
       "      <td>4</td>\n",
       "      <td>11</td>\n",
       "      <td>0</td>\n",
       "      <td>2</td>\n",
       "      <td>1</td>\n",
       "      <td>2</td>\n",
       "      <td>0.343333</td>\n",
       "      <td>0.662917</td>\n",
       "      <td>0.342046</td>\n",
       "    </tr>\n",
       "    <tr>\n",
       "      <th>250</th>\n",
       "      <td>3</td>\n",
       "      <td>9</td>\n",
       "      <td>0</td>\n",
       "      <td>4</td>\n",
       "      <td>1</td>\n",
       "      <td>3</td>\n",
       "      <td>0.633913</td>\n",
       "      <td>0.939565</td>\n",
       "      <td>0.192748</td>\n",
       "    </tr>\n",
       "    <tr>\n",
       "      <th>336</th>\n",
       "      <td>4</td>\n",
       "      <td>12</td>\n",
       "      <td>0</td>\n",
       "      <td>6</td>\n",
       "      <td>0</td>\n",
       "      <td>1</td>\n",
       "      <td>0.299167</td>\n",
       "      <td>0.612917</td>\n",
       "      <td>0.095783</td>\n",
       "    </tr>\n",
       "    <tr>\n",
       "      <th>260</th>\n",
       "      <td>3</td>\n",
       "      <td>9</td>\n",
       "      <td>0</td>\n",
       "      <td>0</td>\n",
       "      <td>0</td>\n",
       "      <td>1</td>\n",
       "      <td>0.507500</td>\n",
       "      <td>0.695000</td>\n",
       "      <td>0.178483</td>\n",
       "    </tr>\n",
       "    <tr>\n",
       "      <th>543</th>\n",
       "      <td>3</td>\n",
       "      <td>6</td>\n",
       "      <td>0</td>\n",
       "      <td>3</td>\n",
       "      <td>1</td>\n",
       "      <td>1</td>\n",
       "      <td>0.697500</td>\n",
       "      <td>0.360000</td>\n",
       "      <td>0.271775</td>\n",
       "    </tr>\n",
       "    <tr>\n",
       "      <th>...</th>\n",
       "      <td>...</td>\n",
       "      <td>...</td>\n",
       "      <td>...</td>\n",
       "      <td>...</td>\n",
       "      <td>...</td>\n",
       "      <td>...</td>\n",
       "      <td>...</td>\n",
       "      <td>...</td>\n",
       "      <td>...</td>\n",
       "    </tr>\n",
       "    <tr>\n",
       "      <th>71</th>\n",
       "      <td>1</td>\n",
       "      <td>3</td>\n",
       "      <td>0</td>\n",
       "      <td>0</td>\n",
       "      <td>0</td>\n",
       "      <td>1</td>\n",
       "      <td>0.384348</td>\n",
       "      <td>0.527391</td>\n",
       "      <td>0.270604</td>\n",
       "    </tr>\n",
       "    <tr>\n",
       "      <th>106</th>\n",
       "      <td>2</td>\n",
       "      <td>4</td>\n",
       "      <td>0</td>\n",
       "      <td>0</td>\n",
       "      <td>0</td>\n",
       "      <td>1</td>\n",
       "      <td>0.456667</td>\n",
       "      <td>0.479583</td>\n",
       "      <td>0.303496</td>\n",
       "    </tr>\n",
       "    <tr>\n",
       "      <th>270</th>\n",
       "      <td>4</td>\n",
       "      <td>9</td>\n",
       "      <td>0</td>\n",
       "      <td>3</td>\n",
       "      <td>1</td>\n",
       "      <td>2</td>\n",
       "      <td>0.635000</td>\n",
       "      <td>0.848750</td>\n",
       "      <td>0.148629</td>\n",
       "    </tr>\n",
       "    <tr>\n",
       "      <th>435</th>\n",
       "      <td>1</td>\n",
       "      <td>3</td>\n",
       "      <td>0</td>\n",
       "      <td>0</td>\n",
       "      <td>0</td>\n",
       "      <td>1</td>\n",
       "      <td>0.361739</td>\n",
       "      <td>0.476957</td>\n",
       "      <td>0.222587</td>\n",
       "    </tr>\n",
       "    <tr>\n",
       "      <th>102</th>\n",
       "      <td>2</td>\n",
       "      <td>4</td>\n",
       "      <td>0</td>\n",
       "      <td>3</td>\n",
       "      <td>1</td>\n",
       "      <td>2</td>\n",
       "      <td>0.412500</td>\n",
       "      <td>0.819167</td>\n",
       "      <td>0.250617</td>\n",
       "    </tr>\n",
       "  </tbody>\n",
       "</table>\n",
       "<p>584 rows × 9 columns</p>\n",
       "</div>"
      ],
      "text/plain": [
       "     season  mnth  holiday  weekday  workingday  weathersit      temp  \\\n",
       "682       4    11        0        2           1           2  0.343333   \n",
       "250       3     9        0        4           1           3  0.633913   \n",
       "336       4    12        0        6           0           1  0.299167   \n",
       "260       3     9        0        0           0           1  0.507500   \n",
       "543       3     6        0        3           1           1  0.697500   \n",
       "..      ...   ...      ...      ...         ...         ...       ...   \n",
       "71        1     3        0        0           0           1  0.384348   \n",
       "106       2     4        0        0           0           1  0.456667   \n",
       "270       4     9        0        3           1           2  0.635000   \n",
       "435       1     3        0        0           0           1  0.361739   \n",
       "102       2     4        0        3           1           2  0.412500   \n",
       "\n",
       "          hum  windspeed  \n",
       "682  0.662917   0.342046  \n",
       "250  0.939565   0.192748  \n",
       "336  0.612917   0.095783  \n",
       "260  0.695000   0.178483  \n",
       "543  0.360000   0.271775  \n",
       "..        ...        ...  \n",
       "71   0.527391   0.270604  \n",
       "106  0.479583   0.303496  \n",
       "270  0.848750   0.148629  \n",
       "435  0.476957   0.222587  \n",
       "102  0.819167   0.250617  \n",
       "\n",
       "[584 rows x 9 columns]"
      ]
     },
     "execution_count": 22,
     "metadata": {},
     "output_type": "execute_result"
    }
   ],
   "source": [
    "from sklearn.tree import DecisionTreeRegressor\n",
    "X_train,X_test,y_train,y_test=train_test_split(X,y,test_size=0.2,random_state=42)\n",
    "X_train"
   ]
  },
  {
   "cell_type": "code",
   "execution_count": 23,
   "id": "c484834a-af2b-4297-a861-80dd6e61c566",
   "metadata": {},
   "outputs": [
    {
     "data": {
      "text/plain": [
       "array([-1614954.04891513, -2027769.33080789, -1981674.4516812 ,\n",
       "       -1947747.71135568])"
      ]
     },
     "execution_count": 23,
     "metadata": {},
     "output_type": "execute_result"
    }
   ],
   "source": [
    "rt=DecisionTreeRegressor(criterion=\"squared_error\",max_depth=5)\n",
    "cross_val_score(rt,X_train,y_train,scoring=\"neg_mean_squared_error\",cv=4)"
   ]
  },
  {
   "cell_type": "code",
   "execution_count": 24,
   "id": "5510dd19-b01b-4b95-857e-179fa924d3b6",
   "metadata": {},
   "outputs": [],
   "source": [
    "rt.fit(X_train,y_train)\n",
    "y_p=rt.predict(X_test)"
   ]
  },
  {
   "cell_type": "code",
   "execution_count": 25,
   "id": "f20006a5-71aa-4d18-b593-6960196dec11",
   "metadata": {},
   "outputs": [
    {
     "data": {
      "image/png": "[encoded data removed]",
      "text/plain": [
       "<Figure size 640x480 with 1 Axes>"
      ]
     },
     "metadata": {},
     "output_type": "display_data"
    }
   ],
   "source": [
    "sns.scatterplot(x=y_test,y=y_p)\n",
    "plt.show()"
   ]
  }
 ],
 "metadata": {
  "kernelspec": {
   "display_name": "Python 3 (ipykernel)",
   "language": "python",
   "name": "python3"
  },
  "language_info": {
   "codemirror_mode": {
    "name": "ipython",
    "version": 3
   },
   "file_extension": ".py",
   "mimetype": "text/x-python",
   "name": "python",
   "nbconvert_exporter": "python",
   "pygments_lexer": "ipython3",
   "version": "3.11.9"
  }
 },
 "nbformat": 4,
 "nbformat_minor": 5
}
